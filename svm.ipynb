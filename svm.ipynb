{
 "cells": [
  {
   "cell_type": "code",
   "execution_count": 3,
   "metadata": {
    "collapsed": true
   },
   "outputs": [],
   "source": [
    "from sklearn.feature_extraction.text import CountVectorizer, TfidfVectorizer\n",
    "import pandas\n",
    "import numpy as np\n",
    "from sklearn.svm import SVC\n",
    "from sklearn.metrics import roc_auc_score\n",
    "from datetime import date\n",
    "import re"
   ]
  },
  {
   "cell_type": "code",
   "execution_count": 38,
   "metadata": {
    "collapsed": true
   },
   "outputs": [],
   "source": [
    "import nltk\n",
    "#read in data to clean and separate into training and test set\n",
    "lines = []\n",
    "score = []\n",
    "tag = []\n",
    "a = 0\n",
    "b = 0\n",
    "c = 0\n",
    "d = 0\n",
    "f = 0\n",
    "for line in open('listings_scores.csv').readlines():\n",
    "    data = line.split('\\t')\n",
    "    clean_desc = re.sub('[^A-Za-z]', ' ', data[0].lower())\n",
    "    clean_score = re.sub(\"[^0-9]\", \"\", data[1])\n",
    "    if clean_score != '' and int(clean_score) <= 100 and int(clean_score) > 0:\n",
    "        if int(clean_score) >= 90:\n",
    "            lines.append(clean_desc)\n",
    "            score.append(int(clean_score))\n",
    "            tag.append(1)\n",
    "        elif int(clean_score) < 89:\n",
    "            lines.append(clean_desc)\n",
    "            score.append(int(clean_score))\n",
    "            tag.append(0)"
   ]
  },
  {
   "cell_type": "code",
   "execution_count": 39,
   "metadata": {
    "collapsed": true
   },
   "outputs": [],
   "source": [
    "feature_extraction = TfidfVectorizer()\n",
    "X = feature_extraction.fit_transform(lines)"
   ]
  },
  {
   "cell_type": "code",
   "execution_count": 41,
   "metadata": {},
   "outputs": [
    {
     "name": "stdout",
     "output_type": "stream",
     "text": [
      "4276\n",
      "6906\n",
      "6906\n",
      "  (0, 10521)\t0.143544007968\n",
      "  (0, 6282)\t0.0951374988971\n",
      "  (0, 8854)\t0.128470316173\n",
      "  (0, 10823)\t0.0368202701571\n",
      "  (0, 717)\t0.275399048694\n",
      "  (0, 471)\t0.0674274206611\n",
      "  (0, 9422)\t0.114648052708\n",
      "  (0, 10629)\t0.0626370685577\n",
      "  (0, 20917)\t0.138694921347\n",
      "  (0, 4992)\t0.0733642790587\n",
      "  (0, 1604)\t0.0777889603995\n",
      "  (0, 10332)\t0.185561316255\n",
      "  (0, 4506)\t0.0800192734997\n",
      "  (0, 12623)\t0.0443766097158\n",
      "  (0, 15666)\t0.0860047795721\n",
      "  (0, 974)\t0.0961580658285\n",
      "  (0, 3647)\t0.0549065132235\n",
      "  (0, 19121)\t0.152355287893\n",
      "  (0, 19321)\t0.122941295825\n",
      "  (0, 2683)\t0.0518132761622\n",
      "  (0, 18860)\t0.309355472832\n",
      "  (0, 3511)\t0.0691078357437\n",
      "  (0, 20698)\t0.0474889825419\n",
      "  (0, 20920)\t0.0772193692942\n",
      "  (0, 15156)\t0.0919785409868\n",
      "  :\t:\n",
      "  (0, 18880)\t0.0377830737785\n",
      "  (0, 3856)\t0.0172178805144\n",
      "  (0, 1051)\t0.0240333591444\n",
      "  (0, 7798)\t0.0259549290283\n",
      "  (0, 11653)\t0.0494168524868\n",
      "  (0, 115)\t0.0255019655438\n",
      "  (0, 3858)\t0.0283033526492\n",
      "  (0, 18951)\t0.0245698156585\n",
      "  (0, 3353)\t0.0258052721004\n",
      "  (0, 3285)\t0.0878251226528\n",
      "  (0, 20051)\t0.037621211363\n",
      "  (0, 4086)\t0.0555781563973\n",
      "  (0, 15644)\t0.0266315202791\n",
      "  (0, 13087)\t0.0202390123118\n",
      "  (0, 11064)\t0.0311480957848\n",
      "  (0, 17830)\t0.0314052753811\n",
      "  (0, 912)\t0.0366821395294\n",
      "  (0, 1889)\t0.0205787837706\n",
      "  (0, 14242)\t0.0155253048275\n",
      "  (0, 629)\t0.0153697543079\n",
      "  (0, 7336)\t0.0327078324612\n",
      "  (0, 19078)\t0.0249547754901\n",
      "  (0, 1114)\t0.0206116726078\n",
      "  (0, 1031)\t0.0365629285069\n",
      "  (0, 306)\t0.0287942076049\n"
     ]
    }
   ],
   "source": [
    "print len(lines[0])\n",
    "print len(lines)\n",
    "print len(tag)\n",
    "print X[0]"
   ]
  },
  {
   "cell_type": "code",
   "execution_count": 42,
   "metadata": {
    "collapsed": true
   },
   "outputs": [],
   "source": [
    "X_train = X[:len(lines)/2]\n",
    "X_test = X[len(lines)/2:]\n",
    "Y_train = tag[:len(tag)/2]\n",
    "Y_test = tag[len(tag)/2:]"
   ]
  },
  {
   "cell_type": "code",
   "execution_count": 43,
   "metadata": {},
   "outputs": [
    {
     "data": {
      "text/plain": [
       "SVC(C=1.0, cache_size=200, class_weight=None, coef0=0.0,\n",
       "  decision_function_shape='ovr', degree=3, gamma='auto', kernel='rbf',\n",
       "  max_iter=-1, probability=True, random_state=None, shrinking=True,\n",
       "  tol=0.001, verbose=False)"
      ]
     },
     "execution_count": 43,
     "metadata": {},
     "output_type": "execute_result"
    }
   ],
   "source": [
    "clf = SVC(probability=True, kernel='rbf')\n",
    "\n",
    "\n",
    "\n",
    "clf.fit(X_train, Y_train)"
   ]
  },
  {
   "cell_type": "code",
   "execution_count": 45,
   "metadata": {},
   "outputs": [
    {
     "name": "stdout",
     "output_type": "stream",
     "text": [
      "ROC-AUC yields 0.630684398313\n"
     ]
    }
   ],
   "source": [
    "predictions = clf.predict_proba(X_test)\n",
    "\n",
    "print('ROC-AUC yields ' + str(roc_auc_score(Y_test, predictions[:,1])))"
   ]
  }
 ],
 "metadata": {
  "kernelspec": {
   "display_name": "Python 2",
   "language": "python",
   "name": "python2"
  },
  "language_info": {
   "codemirror_mode": {
    "name": "ipython",
    "version": 2
   },
   "file_extension": ".py",
   "mimetype": "text/x-python",
   "name": "python",
   "nbconvert_exporter": "python",
   "pygments_lexer": "ipython2",
   "version": "2.7.14"
  }
 },
 "nbformat": 4,
 "nbformat_minor": 2
}
