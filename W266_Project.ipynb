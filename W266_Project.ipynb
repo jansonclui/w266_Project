{
 "cells": [
  {
   "cell_type": "code",
   "execution_count": 229,
   "metadata": {
    "collapsed": true
   },
   "outputs": [],
   "source": [
    "import os, sys, re, json, time, unittest\n",
    "import itertools, collections\n",
    "import re\n",
    "import operator\n",
    "from sklearn import datasets, linear_model\n",
    "import numpy as np\n",
    "from scipy import stats\n",
    "import matplotlib.pyplot as plt\n",
    "\n",
    "import nltk"
   ]
  },
  {
   "cell_type": "code",
   "execution_count": 73,
   "metadata": {},
   "outputs": [],
   "source": [
    "#read in data to clean and separate into training and test set\n",
    "lines = []\n",
    "for line in open('clean_listings.csv').readlines():\n",
    "    data = line.split(\"janson\")\n",
    "    clean_desc = re.sub('[^A-Za-z]', ' ', data[0])\n",
    "    clean_score = data[1].strip('\\n')\n",
    "    \n",
    "    lines.append([clean_desc,clean_score])\n",
    "    \n",
    "training_set = lines[:len(lines)/2]\n",
    "test_set = lines[len(lines)/2:]\n",
    "practice_set = lines[:10]"
   ]
  },
  {
   "cell_type": "code",
   "execution_count": 256,
   "metadata": {},
   "outputs": [],
   "source": [
    "#separates each review into a dictionary of words and score\n",
    "temp_dict = []\n",
    "dictionary = {}\n",
    "bow = []\n",
    "for each in training_set:\n",
    "    sentence = each[0].split(\" \")\n",
    "    bow.append(each[0])\n",
    "    for word in sentence:\n",
    "        if word != '':\n",
    "            temp_dict.append([word.lower(),each[1]])\n",
    "\n",
    "temp_dict = sorted(temp_dict)\n",
    "\n",
    "for each in temp_dict:\n",
    "    if each[0] in dictionary:\n",
    "        dictionary[each[0]].append(int(each[1]))\n",
    "    else:\n",
    "        dictionary[each[0]] = [int(each[1])]\n",
    "    \n",
    "\n",
    "keys = dictionary.keys()\n",
    "total = 0\n",
    "for each in keys:\n",
    "    total = sum(dictionary[each])/len(dictionary[each])\n",
    "    \n",
    "    dictionary[each] = total\n",
    "    total = 0\n",
    "    "
   ]
  },
  {
   "cell_type": "code",
   "execution_count": 259,
   "metadata": {},
   "outputs": [
    {
     "name": "stdout",
     "output_type": "stream",
     "text": [
      "  (0, 167)\t1\n",
      "  (0, 230)\t1\n",
      "  (0, 280)\t1\n",
      "  (0, 332)\t1\n",
      "  (0, 337)\t12\n",
      "  (0, 461)\t2\n",
      "  (0, 462)\t3\n",
      "  (0, 542)\t1\n",
      "  (0, 619)\t2\n",
      "  (0, 759)\t3\n",
      "  (0, 782)\t3\n",
      "  (0, 826)\t1\n",
      "  (0, 1290)\t1\n",
      "  (0, 1692)\t2\n",
      "  (0, 1756)\t1\n",
      "  (0, 2192)\t2\n",
      "  (0, 2428)\t1\n",
      "  (0, 2584)\t2\n",
      "  (0, 2734)\t1\n",
      "  (0, 2939)\t1\n",
      "  (0, 3012)\t1\n",
      "  (0, 3122)\t1\n",
      "  (0, 3197)\t1\n",
      "  (0, 3242)\t1\n",
      "  (0, 3406)\t1\n",
      "  :\t:\n",
      "  (3512, 826)\t2\n",
      "  (3512, 896)\t2\n",
      "  (3512, 1575)\t2\n",
      "  (3512, 1615)\t2\n",
      "  (3512, 3536)\t2\n",
      "  (3512, 3540)\t2\n",
      "  (3512, 3660)\t2\n",
      "  (3512, 3959)\t2\n",
      "  (3512, 4015)\t2\n",
      "  (3512, 4171)\t2\n",
      "  (3512, 4544)\t2\n",
      "  (3512, 5217)\t2\n",
      "  (3512, 5538)\t2\n",
      "  (3512, 5833)\t2\n",
      "  (3512, 6004)\t1\n",
      "  (3512, 6220)\t2\n",
      "  (3512, 6253)\t2\n",
      "  (3512, 6256)\t2\n",
      "  (3512, 7792)\t2\n",
      "  (3512, 7916)\t2\n",
      "  (3512, 8400)\t2\n",
      "  (3512, 8651)\t2\n",
      "  (3512, 9074)\t4\n",
      "  (3512, 9227)\t2\n",
      "  (3512, 9422)\t2\n"
     ]
    }
   ],
   "source": [
    "#bag of words\n",
    "from sklearn.feature_extraction.text import CountVectorizer\n",
    "\n",
    "vectorizer = CountVectorizer()\n",
    "bag_of_words = vectorizer.fit(bow)\n",
    "bag_of_words = vectorizer.transform(bow)\n",
    "print bag_of_words"
   ]
  },
  {
   "cell_type": "code",
   "execution_count": 235,
   "metadata": {},
   "outputs": [],
   "source": [
    "#word_score = [(k, v) for k, v in dictionary.items()] \n",
    "regr = linear_model.LinearRegression()\n",
    "words_train = dictionary.keys()\n",
    "score_train = dictionary.values()\n",
    "\n",
    "words_train = np.array(words_train)\n",
    "score_train = np.array(score_train)\n",
    "\n",
    "#words_train = words_train.reshape(-1,1)\n",
    "#score_train = score_train.reshape(-1,1)\n",
    "#print words_train.shape\n",
    "#print score_train.shape\n",
    "\n",
    "#regr.fit(words_train, score_train)"
   ]
  },
  {
   "cell_type": "code",
   "execution_count": 238,
   "metadata": {},
   "outputs": [
    {
     "data": {
      "image/png": "[encoded data removed]",
      "text/plain": [
       "<matplotlib.figure.Figure at 0x1a150f1b90>"
      ]
     },
     "metadata": {},
     "output_type": "display_data"
    }
   ],
   "source": [
    "\n",
    "import matplotlib.pyplot as plt; plt.rcdefaults()\n",
    "import numpy as np\n",
    "import matplotlib.pyplot as plt\n",
    " \n",
    "\n",
    "y_pos = np.arange(len(words_train))\n",
    "performance = score_train\n",
    " \n",
    "plt.bar(y_pos, performance, align='center')\n",
    "plt.xticks(y_pos, words_train)\n",
    "plt.ylabel('Usage')\n",
    "plt.title('Programming language usage')\n",
    " \n",
    "plt.show()"
   ]
  }
 ],
 "metadata": {
  "kernelspec": {
   "display_name": "Python 2",
   "language": "python",
   "name": "python2"
  },
  "language_info": {
   "codemirror_mode": {
    "name": "ipython",
    "version": 2
   },
   "file_extension": ".py",
   "mimetype": "text/x-python",
   "name": "python",
   "nbconvert_exporter": "python",
   "pygments_lexer": "ipython2",
   "version": "2.7.14"
  }
 },
 "nbformat": 4,
 "nbformat_minor": 2
}
