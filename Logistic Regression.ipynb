{
 "cells": [
  {
   "cell_type": "code",
   "execution_count": 18,
   "metadata": {
    "collapsed": true
   },
   "outputs": [],
   "source": [
    "import os, sys, re, json, time, unittest\n",
    "import itertools, collections\n",
    "import re\n",
    "import operator\n",
    "from sklearn import datasets, linear_model\n",
    "import numpy as np\n",
    "from scipy import stats\n",
    "import matplotlib.pyplot as plt\n",
    "from sklearn.feature_extraction.text import CountVectorizer, TfidfVectorizer\n",
    "from sklearn.linear_model import LogisticRegression\n",
    "from sklearn.metrics import accuracy_score"
   ]
  },
  {
   "cell_type": "code",
   "execution_count": 20,
   "metadata": {
    "collapsed": true
   },
   "outputs": [],
   "source": [
    "import nltk\n",
    "#read in data to clean and separate into training and test set\n",
    "good = []\n",
    "bad = []\n",
    "score = []\n",
    "pre_tags = []\n",
    "tags = []\n",
    "pre_lines = []\n",
    "a = 0\n",
    "b = 0\n",
    "#1 is good\n",
    "#0 is not\n",
    "for line in open('listings_scores.csv').readlines():\n",
    "    data = line.split('\\t')\n",
    "    clean_score = re.sub(\"[^0-9]\", \"\", data[1])\n",
    "    desc = data[0]\n",
    "    if clean_score != '' and int(clean_score) <= 100 and int(clean_score) > 0:\n",
    "        if int(clean_score) >= 90:\n",
    "            for each in desc.lower().split('.'):\n",
    "                if each != ' ':\n",
    "                    good.append(re.sub('[^A-Za-z]', ' ', each))\n",
    "                    pre_lines.append((re.sub('[^A-Za-z]', ' ', each), 'good'))\n",
    "                    score.append(int(clean_score))\n",
    "                    tags.append(int(1))\n",
    "                    pre_tags.append(int(1))\n",
    "                    a += 1\n",
    "        elif int(clean_score) < 90:\n",
    "            for each in desc.lower().split('.'):\n",
    "                if each != ' ':\n",
    "                    pre_lines.append((re.sub('[^A-Za-z]', ' ', each), 'bad'))\n",
    "                    bad.append(re.sub('[^A-Za-z]', ' ', each))\n",
    "                    score.append(int(clean_score))\n",
    "                    pre_tags.append(int(0))\n",
    "                    b += 1\n"
   ]
  },
  {
   "cell_type": "code",
   "execution_count": 21,
   "metadata": {},
   "outputs": [
    {
     "name": "stdout",
     "output_type": "stream",
     "text": [
      "189616\n",
      "189616\n",
      "22763\n",
      "22763\n",
      "212379\n"
     ]
    }
   ],
   "source": [
    "print a\n",
    "print len(good)\n",
    "print b\n",
    "print len(bad)\n",
    "#pre_lines = good + bad\n",
    "print len(pre_lines)"
   ]
  },
  {
   "cell_type": "code",
   "execution_count": 7,
   "metadata": {},
   "outputs": [
    {
     "name": "stdout",
     "output_type": "stream",
     "text": [
      "106189\n",
      "106189\n"
     ]
    }
   ],
   "source": [
    "training = pre_lines[:len(pre_lines)/2]\n",
    "testing = pre_lines[len(pre_lines)/2:]\n",
    "\n",
    "tag_train = pre_tags[:len(pre_tags)/2]\n",
    "tag_test = pre_tags[len(pre_tags)/2:]\n",
    "\n",
    "print len(training)\n",
    "print len(tag_train)"
   ]
  },
  {
   "cell_type": "code",
   "execution_count": 8,
   "metadata": {
    "collapsed": true
   },
   "outputs": [],
   "source": [
    "feature_extraction = TfidfVectorizer()\n",
    "X = feature_extraction.fit_transform(pre_lines)\n",
    "y = pre_tags\n",
    "\n",
    "X_train = X[:len(pre_lines)/2]\n",
    "X_test = X[len(pre_lines)/2:]\n",
    "Y_train = pre_tags[:len(pre_tags)/2]\n",
    "Y_test = pre_tags[len(pre_tags)/2:]\n",
    "\n",
    "\n",
    "# Train model\n",
    "clf_0 = LogisticRegression().fit(X_train, Y_train)\n",
    " \n",
    "# Predict on training set\n",
    "pred_y_0 = clf_0.predict(X_test)"
   ]
  },
  {
   "cell_type": "code",
   "execution_count": null,
   "metadata": {
    "collapsed": true
   },
   "outputs": [],
   "source": [
    "print( accuracy_score(pred_y_0, Y_test) )\n",
    "print( np.unique( pred_y_0 ) )"
   ]
  },
  {
   "cell_type": "code",
   "execution_count": 9,
   "metadata": {},
   "outputs": [
    {
     "name": "stdout",
     "output_type": "stream",
     "text": [
      "189616\n",
      "189616\n"
     ]
    }
   ],
   "source": [
    "from sklearn.utils import resample\n",
    "\n",
    "# Separate majority and minority classes\n",
    "lines_majority = good\n",
    "lines_minority = bad\n",
    " \n",
    "# Upsample minority class\n",
    "bad_upsampled = resample(lines_minority, \n",
    "                         replace=True,     # sample with replacement\n",
    "                         n_samples=189616,    # to match majority class\n",
    "                         random_state=123) # reproducible results\n",
    " \n",
    "    \n",
    "# Combine majority class with upsampled minority class\n",
    "print len(bad_upsampled)\n",
    "print len(good)"
   ]
  },
  {
   "cell_type": "code",
   "execution_count": 10,
   "metadata": {},
   "outputs": [
    {
     "name": "stdout",
     "output_type": "stream",
     "text": [
      "189616\n",
      "379232\n",
      "379232\n"
     ]
    }
   ],
   "source": [
    "from sklearn.feature_extraction.text import CountVectorizer, TfidfVectorizer\n",
    "from sklearn.linear_model import LogisticRegression\n",
    "from sklearn.metrics import accuracy_score\n",
    "from random import shuffle\n",
    "\n",
    "\n",
    "new_list = []\n",
    "\n",
    "for each in good:\n",
    "    new_list.append((each, int(1)))\n",
    "\n",
    "print len(new_list)\n",
    "bad_upsampled = list(bad_upsampled)\n",
    "for each in bad_upsampled:\n",
    "    new_list.append((each, int(0)))\n",
    "\n",
    "shuffle(new_list)\n",
    "\n",
    "new_lines = []\n",
    "new_tags = []\n",
    "\n",
    "for each in new_list:\n",
    "    new_lines.append(each[0])\n",
    "    new_tags.append(each[1])\n",
    "                     \n",
    "                     \n",
    "print len(new_lines)\n",
    "print len(new_tags)"
   ]
  },
  {
   "cell_type": "code",
   "execution_count": null,
   "metadata": {
    "collapsed": true
   },
   "outputs": [],
   "source": [
    "feature_extraction = TfidfVectorizer()\n",
    "X = feature_extraction.fit_transform(new_lines)\n",
    "y = new_tags\n",
    "\n",
    "X_train = X[:len(new_lines)/2]\n",
    "X_test = X[len(new_lines)/2:]\n",
    "Y_train = new_tags[:len(new_tags)/2]\n",
    "Y_test = new_tags[len(new_tags)/2:]\n",
    "\n",
    "\n",
    "# Train model\n",
    "clf_0 = LogisticRegression().fit(X_train, Y_train)\n",
    " \n",
    "# Predict on training set\n",
    "pred_y_0 = clf_0.predict(X_test)"
   ]
  },
  {
   "cell_type": "code",
   "execution_count": null,
   "metadata": {
    "collapsed": true
   },
   "outputs": [],
   "source": [
    "print( accuracy_score(pred_y_0, Y_test) )\n",
    "print( np.unique( pred_y_0 ) )"
   ]
  },
  {
   "cell_type": "code",
   "execution_count": null,
   "metadata": {
    "collapsed": true
   },
   "outputs": [],
   "source": [
    "from sklearn.svm import SVC\n",
    "feature_extraction = TfidfVectorizer()\n",
    "X = feature_extraction.fit_transform(pre_lines)\n",
    "y = pre_tags\n",
    "\n",
    "X_train = X[:len(pre_lines)/2]\n",
    "X_test = X[len(pre_lines)/2:]\n",
    "Y_train = pre_tags[:len(pre_tags)/2]\n",
    "Y_test = pre_tags[len(pre_tags)/2:]\n",
    "\n",
    "\n",
    "# Train model\n",
    "clf_3 = SVC(kernel='linear', \n",
    "            class_weight='balanced', # penalize\n",
    "            probability=True)\n",
    " \n",
    "clf_3.fit(X_train, Y_train)\n",
    " \n",
    "# Predict on training set\n",
    "pred_y_3 = clf_3.predict(X_test)\n",
    " \n",
    "# Is our model still predicting just one class?\n",
    "print( np.unique( pred_y_3 ) )\n",
    "# [0 1]\n",
    " \n",
    "# How's our accuracy?\n",
    "print( accuracy_score(pred_y_3, Y_test) )\n",
    "# 0.688"
   ]
  },
  {
   "cell_type": "code",
   "execution_count": 15,
   "metadata": {},
   "outputs": [
    {
     "name": "stdout",
     "output_type": "stream",
     "text": [
      "(' lands  end hideaway light and airy in law with dedicated bathroom and kitchenette', 'good')\n"
     ]
    }
   ],
   "source": [
    "print pre_lines[0]"
   ]
  },
  {
   "cell_type": "code",
   "execution_count": 17,
   "metadata": {},
   "outputs": [
    {
     "data": {
      "text/plain": [
       "(212379, 2)"
      ]
     },
     "execution_count": 17,
     "metadata": {},
     "output_type": "execute_result"
    }
   ],
   "source": [
    "# import \n",
    "import numpy as np\n",
    "import pandas as pd\n",
    "#test = np.array(pre_lines).reshape(212379,2)\n",
    "heading = [('desc', 'rating')]\n",
    "together = heading + pre_lines\n",
    "#print together[1]\n",
    "colnam = ['desc', 'rating']\n",
    "df = pd.DataFrame.from_records(pre_lines, columns=colnam)\n",
    "\n",
    "df.head(3)\n",
    "df.shape"
   ]
  },
  {
   "cell_type": "code",
   "execution_count": 32,
   "metadata": {},
   "outputs": [
    {
     "data": {
      "text/html": [
       "<div>\n",
       "<style>\n",
       "    .dataframe thead tr:only-child th {\n",
       "        text-align: right;\n",
       "    }\n",
       "\n",
       "    .dataframe thead th {\n",
       "        text-align: left;\n",
       "    }\n",
       "\n",
       "    .dataframe tbody tr th {\n",
       "        vertical-align: top;\n",
       "    }\n",
       "</style>\n",
       "<table border=\"1\" class=\"dataframe\">\n",
       "  <thead>\n",
       "    <tr style=\"text-align: right;\">\n",
       "      <th></th>\n",
       "      <th>desc</th>\n",
       "      <th>rating</th>\n",
       "    </tr>\n",
       "  </thead>\n",
       "  <tbody>\n",
       "    <tr>\n",
       "      <th>0</th>\n",
       "      <td>69687</td>\n",
       "      <td>1</td>\n",
       "    </tr>\n",
       "    <tr>\n",
       "      <th>1</th>\n",
       "      <td>14583</td>\n",
       "      <td>1</td>\n",
       "    </tr>\n",
       "    <tr>\n",
       "      <th>2</th>\n",
       "      <td>105271</td>\n",
       "      <td>1</td>\n",
       "    </tr>\n",
       "    <tr>\n",
       "      <th>3</th>\n",
       "      <td>29455</td>\n",
       "      <td>1</td>\n",
       "    </tr>\n",
       "    <tr>\n",
       "      <th>4</th>\n",
       "      <td>30757</td>\n",
       "      <td>1</td>\n",
       "    </tr>\n",
       "  </tbody>\n",
       "</table>\n",
       "</div>"
      ],
      "text/plain": [
       "     desc  rating\n",
       "0   69687       1\n",
       "1   14583       1\n",
       "2  105271       1\n",
       "3   29455       1\n",
       "4   30757       1"
      ]
     },
     "execution_count": 32,
     "metadata": {},
     "output_type": "execute_result"
    }
   ],
   "source": [
    "from sklearn import preprocessing\n",
    "\n",
    "df.columns\n",
    "# TODO: create a LabelEncoder object and fit it to each feature in X\n",
    "\n",
    "\n",
    "# 1. INSTANTIATE\n",
    "# encode labels with value between 0 and n_classes-1.\n",
    "le = preprocessing.LabelEncoder()\n",
    "\n",
    "\n",
    "# 2/3. FIT AND TRANSFORM\n",
    "# use df.apply() to apply le.fit_transform to all columns\n",
    "X_2 = df.apply(le.fit_transform)\n",
    "X_2.head()"
   ]
  },
  {
   "cell_type": "code",
   "execution_count": 38,
   "metadata": {},
   "outputs": [
    {
     "data": {
      "text/plain": [
       "array([[ 0.,  0.,  0., ...,  0.,  0.,  1.],\n",
       "       [ 0.,  0.,  0., ...,  0.,  0.,  1.],\n",
       "       [ 0.,  0.,  0., ...,  0.,  0.,  1.],\n",
       "       ..., \n",
       "       [ 0.,  0.,  0., ...,  0.,  0.,  1.],\n",
       "       [ 0.,  0.,  0., ...,  0.,  0.,  1.],\n",
       "       [ 0.,  1.,  0., ...,  0.,  0.,  1.]])"
      ]
     },
     "execution_count": 38,
     "metadata": {},
     "output_type": "execute_result"
    }
   ],
   "source": [
    "label_encoder = LabelEncoder()\n",
    "integer_encoded = label_encoder.fit_transform(df)\n",
    "print(integer_encoded)\n",
    "# binary encode\n",
    "onehot_encoder = OneHotEncoder(sparse=False)\n",
    "integer_encoded = integer_encoded.reshape(len(integer_encoded), 1)\n",
    "onehot_encoded = onehot_encoder.fit_transform(integer_encoded)\n",
    "print(onehot_encoded)\n",
    "# invert first example\n",
    "\n",
    "\n",
    "\n",
    "inverted = label_encoder.inverse_transform([argmax(onehot_encoded[0, :])])\n",
    "print(inverted)"
   ]
  },
  {
   "cell_type": "code",
   "execution_count": 23,
   "metadata": {
    "collapsed": true
   },
   "outputs": [],
   "source": [
    "from nltk.corpus import stopwords\n",
    "stop_words = stopwords.words(\"english\")"
   ]
  },
  {
   "cell_type": "code",
   "execution_count": 24,
   "metadata": {},
   "outputs": [
    {
     "name": "stdout",
     "output_type": "stream",
     "text": [
      "[('room', 22482), ('san', 16135), ('na', 16011), ('francisco', 15567), ('street', 15362), ('bedroom', 14277), ('kitchen', 13880), ('home', 13804), ('house', 12421), ('apartment', 12401)]\n"
     ]
    }
   ],
   "source": [
    "words = []\n",
    "for text, rating in pre_lines:\n",
    "    for word in text.split():\n",
    "        if word.lower() not in stop_words:\n",
    "            words.append(word.lower())\n",
    "word_features = nltk.FreqDist(words)\n",
    "most_common = word_features.most_common()[:10000]\n",
    "print most_common[:10]"
   ]
  },
  {
   "cell_type": "code",
   "execution_count": 25,
   "metadata": {
    "collapsed": true
   },
   "outputs": [],
   "source": [
    "def feature_sep(descriptions):\n",
    "    words = []\n",
    "    for word in descriptions.split(\" \"):\n",
    "        words.append(word)\n",
    "    features = {}\n",
    "    for w in most_common:\n",
    "        features[w] = (w in words)\n",
    "    return features"
   ]
  },
  {
   "cell_type": "code",
   "execution_count": null,
   "metadata": {
    "collapsed": true
   },
   "outputs": [],
   "source": [
    "featuresets = [(feature_sep(descriptions), tag) for (descriptions, tag) in pre_lines]"
   ]
  },
  {
   "cell_type": "code",
   "execution_count": null,
   "metadata": {
    "collapsed": true
   },
   "outputs": [],
   "source": [
    "training_set = featuresets[:len(featuresets)/2]\n",
    "test_set = featuresets[len(featuresets)/2:]"
   ]
  },
  {
   "cell_type": "code",
   "execution_count": 2,
   "metadata": {},
   "outputs": [],
   "source": []
  },
  {
   "cell_type": "code",
   "execution_count": null,
   "metadata": {
    "collapsed": true
   },
   "outputs": [],
   "source": [
    "classifier = LogisticRegression(training_set)\n",
    "nltk.\n",
    "refsets = collections.defaultdict(set)\n",
    "testsets = collections.defaultdict(set)\n",
    " \n",
    "for i, (feats, label) in enumerate(testfeats):\n",
    "    refsets[label].add(i)\n",
    "    observed = classifier.classify(feats)\n",
    "    testsets[observed].add(i)\n",
    "\n",
    "\n"
   ]
  },
  {
   "cell_type": "code",
   "execution_count": null,
   "metadata": {
    "collapsed": true
   },
   "outputs": [],
   "source": [
    "print (nltk.classify.accuracy(classifier, test_set)*100)\n",
    "classifier.show_most_informative_features(30)"
   ]
  },
  {
   "cell_type": "code",
   "execution_count": null,
   "metadata": {
    "collapsed": true
   },
   "outputs": [],
   "source": [
    "print (nltk.classify.accuracy(classifier, test_set)*100)\n",
    "classifier.show_most_informative_features(20)"
   ]
  },
  {
   "cell_type": "code",
   "execution_count": null,
   "metadata": {
    "collapsed": true
   },
   "outputs": [],
   "source": [
    "import pickle\n",
    "save_classifier = open(\"naivebayes.pickle\", \"wb\")\n",
    "pickle.dump(classifier, save_classifier)\n",
    "save_classifier.close()"
   ]
  }
 ],
 "metadata": {
  "kernelspec": {
   "display_name": "Python 2",
   "language": "python",
   "name": "python2"
  },
  "language_info": {
   "codemirror_mode": {
    "name": "ipython",
    "version": 2
   },
   "file_extension": ".py",
   "mimetype": "text/x-python",
   "name": "python",
   "nbconvert_exporter": "python",
   "pygments_lexer": "ipython2",
   "version": "2.7.14"
  }
 },
 "nbformat": 4,
 "nbformat_minor": 2
}
