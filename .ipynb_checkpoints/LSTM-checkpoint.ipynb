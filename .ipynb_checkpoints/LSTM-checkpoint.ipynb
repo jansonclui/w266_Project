{
 "cells": [
  {
   "cell_type": "code",
   "execution_count": 1,
   "metadata": {
    "collapsed": true
   },
   "outputs": [],
   "source": [
    "import os, sys, re, json, time, unittest\n",
    "import itertools, collections\n",
    "import re\n",
    "import operator\n",
    "from sklearn import datasets, linear_model\n",
    "import numpy as np\n",
    "from scipy import stats\n",
    "import matplotlib.pyplot as plt"
   ]
  },
  {
   "cell_type": "code",
   "execution_count": 2,
   "metadata": {},
   "outputs": [
    {
     "name": "stdout",
     "output_type": "stream",
     "text": [
      "6856\n",
      "148\n"
     ]
    }
   ],
   "source": [
    "import nltk\n",
    "#read in data to clean and separate into training and test set\n",
    "lines = []\n",
    "goodc = 0\n",
    "badc = 0\n",
    "for line in open('listings_scores.csv').readlines():\n",
    "    data = line.split('\\t')\n",
    "    clean_desc = re.sub('[^A-Za-z]', ' ', data[0].lower())\n",
    "    clean_score = re.sub(\"[^0-9]\", \"\", data[1])\n",
    "    if clean_score != '' and int(clean_score) <= 100 and int(clean_score) > 0:\n",
    "        if int(clean_score) >= 80:\n",
    "            lines.append([clean_desc, \"good\"])\n",
    "            goodc += 1\n",
    "        elif int(clean_score) < 79:\n",
    "            lines.append([clean_desc, \"bad\"])\n",
    "            badc += 1\n",
    "print goodc\n",
    "print badc"
   ]
  },
  {
   "cell_type": "code",
   "execution_count": 3,
   "metadata": {
    "collapsed": true
   },
   "outputs": [],
   "source": [
    "from nltk.corpus import stopwords\n",
    "stop_words = stopwords.words(\"english\")"
   ]
  },
  {
   "cell_type": "code",
   "execution_count": 30,
   "metadata": {},
   "outputs": [
    {
     "name": "stdout",
     "output_type": "stream",
     "text": [
      "2005509\n",
      "[('room', 22467), ('san', 16133), ('na', 15992), ('francisco', 15565), ('street', 15351), ('bedroom', 14265), ('kitchen', 13869), ('home', 13798), ('house', 12420), ('apartment', 12390)]\n"
     ]
    }
   ],
   "source": [
    "words = []\n",
    "for text, rating in lines:\n",
    "    for word in text.split():\n",
    "        if word.lower() not in stop_words:\n",
    "            words.append(word.lower())\n",
    "\n",
    "print len(words)\n",
    "word_features = nltk.FreqDist(words)\n",
    "most_common = word_features.most_common()[:10000]\n",
    "print most_common[:10]"
   ]
  },
  {
   "cell_type": "code",
   "execution_count": 134,
   "metadata": {},
   "outputs": [
    {
     "name": "stdout",
     "output_type": "stream",
     "text": [
      "21254\n"
     ]
    }
   ],
   "source": [
    "most_common2 = word_features.most_common()\n",
    "print len(most_common2)"
   ]
  },
  {
   "cell_type": "code",
   "execution_count": 92,
   "metadata": {
    "collapsed": true
   },
   "outputs": [],
   "source": [
    "plain_words = []\n",
    "embedded_words = []\n",
    "word_dict = {}\n",
    "for each in most_common:\n",
    "    plain_words.append(each[0])\n",
    "    embedded_words.append(each[1])\n",
    "    word_dict[each[0]] = each[1]"
   ]
  },
  {
   "cell_type": "code",
   "execution_count": 93,
   "metadata": {},
   "outputs": [
    {
     "name": "stdout",
     "output_type": "stream",
     "text": [
      "bedroom\n",
      "14265\n",
      "14265\n"
     ]
    }
   ],
   "source": [
    "print plain_words[5]\n",
    "print embedded_words[5]\n",
    "print word_dict['bedroom']"
   ]
  },
  {
   "cell_type": "code",
   "execution_count": 60,
   "metadata": {
    "collapsed": true
   },
   "outputs": [],
   "source": [
    "def word_embedding(descriptions):\n",
    "    words = []\n",
    "    for word in descriptions.split(\" \"):\n",
    "        words.append(word)\n",
    "    features = []\n",
    "    for each in words:\n",
    "        if each in plain_words:\n",
    "            features.append(word_dict[each])\n",
    "        elif each not in just_words:\n",
    "            features.append(0)\n",
    "    return features"
   ]
  },
  {
   "cell_type": "code",
   "execution_count": 84,
   "metadata": {
    "scrolled": false
   },
   "outputs": [],
   "source": [
    "test = lines[:10]\n",
    "featuresets = [(word_embedding(descriptions), tag) for (descriptions, tag) in test]\n",
    "\n",
    "sentences = []\n",
    "feature_tags = []\n",
    "\n",
    "for each in featuresets:\n",
    "    sentences.append(each[0])\n",
    "    if each[1] == 'good':\n",
    "        feature_tags.append(each[1])\n",
    "    elif each[1] == 'bad':\n",
    "        feature_tags.append(each[0])\n",
    "    \n",
    "X_train = sentences[:5]\n",
    "y_train = feature_tags[:5]\n",
    "\n",
    "X_test = sentences[5:]\n",
    "y_test = feature_tags[5:]"
   ]
  },
  {
   "cell_type": "code",
   "execution_count": 33,
   "metadata": {},
   "outputs": [
    {
     "name": "stderr",
     "output_type": "stream",
     "text": [
      "Using TensorFlow backend.\n"
     ]
    }
   ],
   "source": [
    "import numpy\n",
    "import keras\n",
    "from keras.models import Sequential\n",
    "from keras.layers import Dense\n",
    "from keras.layers import LSTM\n",
    "from keras.layers.embeddings import Embedding\n",
    "from keras.preprocessing import sequence\n",
    "# fix random seed for reproducibility\n",
    "numpy.random.seed(7)"
   ]
  },
  {
   "cell_type": "code",
   "execution_count": 136,
   "metadata": {},
   "outputs": [
    {
     "name": "stdout",
     "output_type": "stream",
     "text": [
      "[1, 14, 22, 16, 43, 530, 973, 1622, 1385, 65, 458, 4468, 66, 3941, 4, 173, 36, 256, 5, 25, 100, 43, 838, 112, 50, 670, 2, 9, 35, 480, 284, 5, 150, 4, 172, 112, 167, 2, 336, 385, 39, 4, 172, 4536, 1111, 17, 546, 38, 13, 447, 4, 192, 50, 16, 6, 147, 2025, 19, 14, 22, 4, 1920, 4613, 469, 4, 22, 71, 87, 12, 16, 43, 530, 38, 76, 15, 13, 1247, 4, 22, 17, 515, 17, 12, 16, 626, 18, 2, 5, 62, 386, 12, 8, 316, 8, 106, 5, 4, 2223, 2, 16, 480, 66, 3785, 33, 4, 130, 12, 16, 38, 619, 5, 25, 124, 51, 36, 135, 48, 25, 1415, 33, 6, 22, 12, 215, 28, 77, 52, 5, 14, 407, 16, 82, 2, 8, 4, 107, 117, 2, 15, 256, 4, 2, 7, 3766, 5, 723, 36, 71, 43, 530, 476, 26, 400, 317, 46, 7, 4, 2, 1029, 13, 104, 88, 4, 381, 15, 297, 98, 32, 2071, 56, 26, 141, 6, 194, 2, 18, 4, 226, 22, 21, 134, 476, 26, 480, 5, 144, 30, 2, 18, 51, 36, 28, 224, 92, 25, 104, 4, 226, 65, 16, 38, 1334, 88, 12, 16, 283, 5, 16, 4472, 113, 103, 32, 15, 16, 2, 19, 178, 32]\n"
     ]
    }
   ],
   "source": [
    "#from keras.datasets import imdb\n",
    "\n",
    "## load the dataset but only keep the top n words, zero the rest\n",
    "#top_words = 5000\n",
    "#(X1_train, y1_train), (X1_test, y1_test) = imdb.load_data(num_words=top_words)\n",
    "print (X1_train[0])"
   ]
  },
  {
   "cell_type": "code",
   "execution_count": 121,
   "metadata": {},
   "outputs": [
    {
     "name": "stdout",
     "output_type": "stream",
     "text": [
      "[1, 14, 22, 16, 43, 530, 973, 1622, 1385, 65, 458, 4468, 66, 3941, 4, 173, 36, 256, 5, 25, 100, 43, 838, 112, 50, 670, 2, 9, 35, 480, 284, 5, 150, 4, 172, 112, 167, 2, 336, 385, 39, 4, 172, 4536, 1111, 17, 546, 38, 13, 447, 4, 192, 50, 16, 6, 147, 2025, 19, 14, 22, 4, 1920, 4613, 469, 4, 22, 71, 87, 12, 16, 43, 530, 38, 76, 15, 13, 1247, 4, 22, 17, 515, 17, 12, 16, 626, 18, 2, 5, 62, 386, 12, 8, 316, 8, 106, 5, 4, 2223, 2, 16, 480, 66, 3785, 33, 4, 130, 12, 16, 38, 619, 5, 25, 124, 51, 36, 135, 48, 25, 1415, 33, 6, 22, 12, 215, 28, 77, 52, 5, 14, 407, 16, 82, 2, 8, 4, 107, 117, 2, 15, 256, 4, 2, 7, 3766, 5, 723, 36, 71, 43, 530, 476, 26, 400, 317, 46, 7, 4, 2, 1029, 13, 104, 88, 4, 381, 15, 297, 98, 32, 2071, 56, 26, 141, 6, 194, 2, 18, 4, 226, 22, 21, 134, 476, 26, 480, 5, 144, 30, 2, 18, 51, 36, 28, 224, 92, 25, 104, 4, 226, 65, 16, 38, 1334, 88, 12, 16, 283, 5, 16, 4472, 113, 103, 32, 15, 16, 2, 19, 178, 32]\n",
      "0\n"
     ]
    }
   ],
   "source": [
    "print X1_train[0]\n",
    "print y1_train[3000]"
   ]
  },
  {
   "cell_type": "code",
   "execution_count": 75,
   "metadata": {},
   "outputs": [],
   "source": [
    "#print len(X_train[0])\n",
    "#print X_train[0]\n",
    "# truncate and pad input sequences\n",
    "#max_review_length = 500\n",
    "#test_train = sequence.pad_sequences(X_train, maxlen=max_review_length)\n",
    "#test_test = sequence.pad_sequences(X_test, maxlen=max_review_length)\n",
    "\n",
    "#print len(test_train[0])\n",
    "#print test_train[0]"
   ]
  },
  {
   "cell_type": "code",
   "execution_count": null,
   "metadata": {
    "collapsed": true
   },
   "outputs": [],
   "source": [
    "#just_words = []\n",
    "#for each in most_common:\n",
    "#    just_words.append(each[0])"
   ]
  },
  {
   "cell_type": "code",
   "execution_count": 96,
   "metadata": {},
   "outputs": [],
   "source": [
    "#def feature_sep(descriptions):\n",
    "#    words = []\n",
    "##    for word in descriptions.split(\" \"):\n",
    " #       words.append(word)\n",
    " #   features = []\n",
    "#    for each in words:\n",
    "#        if each in just_words:\n",
    "#            features.append(1)\n",
    "#        elif each not in just_words:\n",
    "##            features.append(0)\n",
    "#    return features\n",
    "def word_embedding(descriptions):\n",
    "    words = []\n",
    "    for word in descriptions.split(\" \"):\n",
    "        words.append(word)\n",
    "    features = []\n",
    "    for each in words:\n",
    "        if each in plain_words:\n",
    "            features.append(word_dict[each])\n",
    "        elif each not in just_words:\n",
    "            features.append(0)\n",
    "    return features"
   ]
  },
  {
   "cell_type": "code",
   "execution_count": 123,
   "metadata": {},
   "outputs": [],
   "source": [
    "featuresets = [(word_embedding(descriptions), tag) for (descriptions, tag) in lines]\n",
    "\n",
    "sentences = []\n",
    "feature_tags = []\n",
    "\n",
    "for each in featuresets:\n",
    "    sentences.append(each[0])\n",
    "    if each[1] == 'good':\n",
    "        feature_tags.append(1)\n",
    "    elif each[1] == 'bad':\n",
    "        feature_tags.append(0)\n",
    "    \n",
    "X_train = sentences[:len(sentences)/2]\n",
    "y_train = feature_tags[:len(feature_tags)/2]\n",
    "X_test = sentences[len(sentences)/2:]\n",
    "y_test = feature_tags[len(feature_tags)/2:]"
   ]
  },
  {
   "cell_type": "code",
   "execution_count": 137,
   "metadata": {
    "scrolled": true
   },
   "outputs": [
    {
     "name": "stdout",
     "output_type": "stream",
     "text": [
      "800\n",
      "1\n"
     ]
    }
   ],
   "source": [
    "# truncate and pad input sequences\n",
    "max_review_length = 800\n",
    "X_pad_train = sequence.pad_sequences(X_train, maxlen=max_review_length)\n",
    "X_pad_test = sequence.pad_sequences(X_test, maxlen=max_review_length)\n",
    "print len(X_pad_train[0])\n",
    "print y_train[0]\n"
   ]
  },
  {
   "cell_type": "code",
   "execution_count": 129,
   "metadata": {
    "scrolled": false
   },
   "outputs": [
    {
     "name": "stdout",
     "output_type": "stream",
     "text": [
      "_________________________________________________________________\n",
      "Layer (type)                 Output Shape              Param #   \n",
      "=================================================================\n",
      "embedding_7 (Embedding)      (None, 1000, 32)          718976    \n",
      "_________________________________________________________________\n",
      "lstm_7 (LSTM)                (None, 100)               53200     \n",
      "_________________________________________________________________\n",
      "dense_7 (Dense)              (None, 1)                 101       \n",
      "=================================================================\n",
      "Total params: 772,277\n",
      "Trainable params: 772,277\n",
      "Non-trainable params: 0\n",
      "_________________________________________________________________\n",
      "None\n",
      "Train on 3502 samples, validate on 3502 samples\n",
      "Epoch 1/3\n",
      "3502/3502 [==============================] - 56s 16ms/step - loss: 0.2258 - acc: 0.9654 - val_loss: 0.0919 - val_acc: 0.9817\n",
      "Epoch 2/3\n",
      "3502/3502 [==============================] - 55s 16ms/step - loss: 0.1142 - acc: 0.9760 - val_loss: 0.0921 - val_acc: 0.9817\n",
      "Epoch 3/3\n",
      "3502/3502 [==============================] - 55s 16ms/step - loss: 0.1143 - acc: 0.9760 - val_loss: 0.0914 - val_acc: 0.9817\n"
     ]
    },
    {
     "data": {
      "text/plain": [
       "<keras.callbacks.History at 0x1a356b2bd0>"
      ]
     },
     "execution_count": 129,
     "metadata": {},
     "output_type": "execute_result"
    }
   ],
   "source": [
    "# create the model\n",
    "embedding_vecor_length = 32\n",
    "top_words = 22468\n",
    "model = Sequential()\n",
    "model.add(Embedding(top_words, embedding_vecor_length, input_length=max_review_length))\n",
    "model.add(LSTM(100))\n",
    "model.add(Dense(1, activation='sigmoid'))\n",
    "model.compile(loss='binary_crossentropy', optimizer='adam', metrics=['accuracy'])\n",
    "print(model.summary())\n",
    "model.fit(X_pad_train, y_train, validation_data=(X_pad_test, y_test), epochs=3, batch_size=64)"
   ]
  },
  {
   "cell_type": "code",
   "execution_count": null,
   "metadata": {},
   "outputs": [
    {
     "name": "stdout",
     "output_type": "stream",
     "text": [
      "_________________________________________________________________\n",
      "Layer (type)                 Output Shape              Param #   \n",
      "=================================================================\n",
      "embedding_10 (Embedding)     (None, 800, 32)           718976    \n",
      "_________________________________________________________________\n",
      "lstm_10 (LSTM)               (None, 100)               53200     \n",
      "_________________________________________________________________\n",
      "dense_10 (Dense)             (None, 1)                 101       \n",
      "=================================================================\n",
      "Total params: 772,277\n",
      "Trainable params: 772,277\n",
      "Non-trainable params: 0\n",
      "_________________________________________________________________\n",
      "None\n",
      "Epoch 1/3\n",
      "3502/3502 [==============================] - 46s 13ms/step - loss: 0.2299 - acc: 0.9617\n",
      "Epoch 2/3\n",
      "3502/3502 [==============================] - 45s 13ms/step - loss: 0.1148 - acc: 0.9760\n",
      "Epoch 3/3\n"
     ]
    }
   ],
   "source": [
    "# create the model\n",
    "top_words = 22468\n",
    "embedding_vecor_length = 32\n",
    "model = Sequential()\n",
    "model.add(Embedding(top_words, embedding_vecor_length, input_length=max_review_length))\n",
    "model.add(LSTM(100, dropout=0.2, recurrent_dropout=0.2))\n",
    "model.add(Dense(1, activation='sigmoid'))\n",
    "model.compile(loss='binary_crossentropy', optimizer='adam', metrics=['accuracy'])\n",
    "print(model.summary())\n",
    "model.fit(X_pad_train, y_train, epochs=3, batch_size=64)\n",
    "# Final evaluation of the model\n",
    "scores = model.evaluate(X_pad_test, y_test, verbose=0)\n",
    "print(\"Accuracy: %.2f%%\" % (scores[1]*100))"
   ]
  },
  {
   "cell_type": "code",
   "execution_count": 20,
   "metadata": {},
   "outputs": [
    {
     "name": "stdout",
     "output_type": "stream",
     "text": [
      "{'limited': 747, 'shelf': 2377, 'personally': 1791, 'desirable': 901, 'yellow': 2649, 'four': 440, 'facilities': 792, 'woods': 2675, 'sleep': 334, 'asian': 978, 'hanging': 1428, 'consists': 1902, 'oldest': 1718, 'forget': 1891, 'trolley': 1710, 'whose': 2918, 'remodeled': 228, 'seriously': 2895, 'bike': 399, 'voted': 2511, 'recycle': 2275, 'sorry': 864, 'zipcar': 1562, 'worth': 2683, 'updated': 593, 'risk': 2692, 'fireplaces': 2512, 'deli': 2041, 'dynamic': 2515, 'blanket': 2135, 'rise': 2103, 'connects': 1911, 'hdtv': 1479, 'every': 286, 'fireplace': 376, 'encounter': 2524, 'tickets': 1618, 'disturb': 1302, 'basics': 1970, 'wooden': 1870, 'companies': 1605, 'wednesday': 2594, 'convenience': 604, 'bordering': 2859, 'ups': 2034, 'clothes': 945, 'enjoy': 70, 'dinners': 2587, 'bicycle': 1776, 'daybed': 2381, 'hillside': 2360, 'presidio': 463, 'chez': 2809, 'direct': 698, 'chef': 1024, 'elegant': 803, 'second': 291, 'street': 4, 'professionally': 1715, 'air': 430, 'machines': 1921, 'even': 385, 'transportations': 2580, 'cooking': 426, 'liberty': 2504, 'lights': 769, 'new': 88, 'tips': 865, 'ever': 1201, 'counters': 1695, 'sinks': 2032, 'never': 746, 'hundreds': 2469, 'lgbt': 2677, 'studio': 108, 'active': 1606, 'path': 1859, 'excelsior': 1624, 'growing': 2764, 'dry': 980, 'kids': 362, 'daughter': 2329, 'burners': 2996, 'luggage': 910, 'items': 646, 'k': 914, 'changed': 2623, 'museums': 662, 'credit': 1317, 'smoke': 600, 'permit': 713, 'suitable': 1051, 'changes': 1903, 'cancellation': 2172, 'golden': 53, 'fantastic': 628, 'secure': 857, 'seven': 2822, 'highly': 985, 'county': 2516, 'visible': 2958, 'busses': 1394, 'guests': 22, 'stern': 1740, 'atrium': 2294, 'total': 851, 'unit': 61, 'would': 186, 'hospital': 1495, 'symphony': 1313, 'call': 535, 'telegraph': 1439, 'recommend': 641, 'type': 1311, 'tell': 1283, 'separated': 1610, 'relax': 413, 'brings': 1971, 'award': 2057, 'aware': 872, 'phone': 126, 'warm': 565, 'adult': 1281, 'excellent': 498, 'warf': 2641, 'yard': 263, 'hold': 1319, 'moscone': 438, 'must': 406, 'abundance': 1899, 'tastefully': 1536, 'pride': 1830, 'locked': 921, 'room': 0, 'permits': 1679, 'setup': 1995, 'work': 202, 'mi': 1831, 'cancellations': 2470, 'roof': 495, 'movies': 1170, 'precita': 1285, 'already': 2037, 'route': 1588, 'decorative': 2747, 'foodie': 2055, 'give': 333, 'household': 1555, 'foods': 454, 'want': 158, 'keep': 213, 'absolute': 2162, 'end': 313, 'thing': 1273, 'provide': 192, 'travel': 428, 'damage': 1409, 'machine': 531, 'amazing': 206, 'adjacent': 828, 'answer': 504, 'gate': 48, 'beach': 93, 'pizza': 886, 'description': 1102, 'beauty': 1517, 'earlier': 2174, 'communal': 1511, 'lay': 2555, 'waterfront': 1215, 'law': 588, 'types': 1990, 'purchase': 2198, 'ballroom': 2751, 'third': 684, 'homeowners': 2914, 'appreciate': 940, 'smack': 2562, 'greet': 965, 'supermarkets': 1906, 'cigarettes': 2727, 'maintain': 2244, 'green': 681, 'ultimate': 2608, 'enter': 598, 'order': 1372, 'wind': 2457, 'wine': 419, 'office': 367, 'deck': 106, 'welcomed': 2239, 'walgreens': 1138, 'zen': 1907, 'jacuzzi': 1257, 'murals': 1272, 'oven': 420, 'responsive': 2024, 'japan': 1941, 'tops': 1642, 'entrances': 1892, 'fit': 793, 'personal': 582, 'soaking': 1873, 'writing': 2471, 'better': 928, 'walkable': 685, 'hidden': 143, 'easier': 1916, 'divisidero': 2817, 'coffee': 55, 'tourist': 573, 'combination': 1701, 'duvet': 2163, 'safe': 177, 'school': 1442, 'touring': 2579, 'potrero': 411, 'roommate': 1060, 'rental': 164, 'bank': 2421, 'bread': 2351, 'unregistered': 2910, 'meat': 2842, 'l': 629, 'reasonable': 1105, 'fitness': 1054, 'side': 340, 'mean': 2503, 'shuttle': 1096, 'financial': 325, 'fairly': 1641, 'venue': 2433, 'spanish': 1629, 'bowls': 2380, 'fairmont': 2773, 'gatherings': 1693, 'hosted': 2121, 'cathedral': 1262, 'sfsu': 2021, 'saturday': 1298, 'hostel': 890, 'network': 2136, 'driving': 923, 'restricted': 2465, 'cameras': 2501, 'washed': 2993, 'vibes': 2877, 'mason': 926, 'rd': 647, 'bonus': 1817, 'laid': 1805, 'got': 1532, 'newly': 274, 'sliding': 1256, 'written': 2984, 'noriega': 1510, 'certifies': 986, 'little': 248, 'free': 58, 'standard': 1503, 'enormous': 2345, 'shelves': 2131, 'ingleside': 2180, 'atm': 2201, 'messages': 2690, 'days': 444, 'heading': 2477, 'silicon': 955, 'att': 2595, 'smokers': 2052, 'moving': 2375, 'hostels': 2775, 'loud': 473, 'purpose': 2520, 'industrial': 1792, 'features': 314, 'attractions': 359, 'primary': 1832, 'channels': 1136, 'wash': 720, 'featured': 2245, 'floors': 172, 'another': 443, 'comforter': 1481, 'thick': 2941, 'electronic': 1854, 'plugs': 2707, 'hood': 2206, 'rated': 1236, 'renovated': 272, 'service': 447, 'top': 124, 'approximately': 1194, 'heights': 137, 'plentiful': 1421, 'needed': 400, 'master': 176, 'listed': 1061, 'worlds': 2797, 'airy': 868, 'john': 2366, 'dogs': 784, 'listen': 2546, 'urban': 570, 'ceiling': 711, 'hangout': 2852, 'happily': 2022, 'gym': 613, 'touristy': 2448, 'serve': 1508, 'japanese': 714, 'western': 1885, 'cereal': 2701, 'wardrobe': 2309, 'maintaining': 2944, 'distance': 60, 'target': 1564, 'surrounding': 1222, 'hike': 1251, 'tree': 668, 'likely': 1007, 'shower': 139, 'matter': 2563, 'fabulous': 804, 'iron': 683, 'feeling': 1314, 'bridge': 184, 'palace': 1127, 'respecting': 1881, 'navigate': 2403, 'modern': 98, 'mind': 969, 'smoker': 2920, 'talking': 2430, 'seen': 1942, 'mins': 402, 'contents': 1049, 'relatively': 1258, 'quieter': 2165, 'hub': 1434, 'concrete': 2614, 'convenient': 245, 'responsible': 1062, 'culturally': 2784, 'casual': 1901, 'oriented': 2038, 'sound': 664, 'recommended': 1770, 'edge': 1603, 'luxury': 466, 'doors': 433, 'sleeper': 547, 'rides': 1352, 'davidson': 2246, 'blue': 1128, 'though': 606, 'marin': 1475, 'regular': 1374, 'plenty': 178, 'drought': 1957, 'coin': 1009, 'neighborhoods': 175, 'grove': 1458, 'medical': 1979, 'flow': 2853, 'dog': 421, 'freeway': 587, 'definitely': 1482, 'tech': 648, 'entertaining': 1344, 'sum': 2878, 'reserve': 1827, 'renting': 826, 'wild': 2725, 'sanctuary': 1654, 'visitor': 1935, 'meetings': 2397, 'queen': 45, 'colors': 2451, 'radio': 2788, 'supplied': 2850, 'availability': 1152, 'toast': 2738, 'touches': 1788, 'busy': 669, 'layout': 1418, 'quaint': 856, 'weekends': 729, 'sugar': 2818, 'bush': 2382, 'rich': 1771, 'folks': 1558, 'warmest': 1996, 'personality': 2839, 'plate': 2209, 'colorful': 981, 'professionals': 1083, 'de': 642, 'stop': 243, 'nopalito': 2831, 'preferred': 2166, 'coast': 2123, 'pocket': 2383, 'amazon': 997, 'tiled': 1687, 'supplies': 1264, 'considerate': 1242, 'comply': 918, 'runs': 837, 'bar': 360, 'nicely': 1579, 'fields': 2819, 'bay': 86, 'twice': 2371, 'bad': 2583, 'architecture': 1121, 'sqft': 1449, 'geary': 878, 'respond': 1640, 'mandatory': 2069, 'keypad': 2065, 'picturesque': 2185, 'radius': 1751, 'result': 1327, 'best': 71, 'subject': 1756, 'said': 1666, 'michelin': 2994, 'lots': 174, 'away': 21, 'opened': 2684, 'score': 456, 'pets': 194, 'airbed': 2419, 'yogurt': 2907, 'sorts': 2619, 'terms': 601, 'nature': 1216, 'however': 356, 'wi': 528, 'wear': 1549, 'convertible': 2597, 'kitchen': 6, 'received': 2973, 'climate': 2892, 'cow': 1041, 'country': 1129, 'heating': 1248, 'games': 1387, 'faces': 1367, 'china': 1112, 'requests': 1544, 'com': 1077, 'asked': 1736, 'suggest': 1768, 'fillmore': 417, 'prepared': 1953, 'berkeley': 1821, 'deyoung': 1435, 'height': 1980, 'dorm': 1806, 'canyon': 1214, 'towels': 259, 'loaded': 2602, 'hilly': 2352, 'speak': 2033, 'conference': 1521, 'bathroom': 25, 'puts': 2820, 'basis': 1981, 'union': 117, 'fri': 2858, 'three': 210, 'tiny': 2139, 'quickly': 1031, 'beer': 1533, 'much': 257, 'stadium': 1843, 'basic': 738, 'expected': 2066, 'flexible': 1126, 'lovely': 258, 'warmth': 2655, 'website': 1182, 'life': 658, 'families': 368, 'loft': 322, 'relaxing': 562, 'eastern': 2181, 'drugs': 934, 'sunshine': 1767, 'irving': 1342, 'lift': 2783, 'child': 1022, 'catch': 788, 'voices': 2825, 'chill': 1621, 'abound': 2259, 'exception': 2082, 'east': 474, 'sofabed': 2349, 'starts': 2919, 'castro': 102, 'n': 382, 'near': 147, 'ceilings': 308, 'property': 226, 'study': 1753, 'cab': 987, 'atop': 1808, 'sushi': 999, 'player': 709, 'upscale': 1016, 'exterior': 1868, 'conditioner': 1104, 'id': 1261, 'confirmed': 2213, 'drawers': 1166, 'things': 390, 'make': 131, 'toaster': 564, 'amount': 1325, 'complex': 1559, 'split': 1382, 'babies': 2834, 'plates': 1329, 'wholefoods': 2873, 'several': 320, 'european': 1586, 'independent': 1047, 'satellite': 2624, 'peaks': 476, 'sacramento': 2298, 'pick': 775, 'rail': 759, 'rain': 1782, 'hand': 936, 'pubs': 1816, 'portal': 924, 'ownership': 2908, 'cooktop': 2650, 'opportunity': 2505, 'kid': 1223, 'kept': 1286, 'soak': 2656, 'condiments': 2787, 'settled': 2518, 'lcd': 2581, 'ocean': 166, 'burgers': 2574, 'contact': 493, 'greatest': 2569, 'corporate': 1732, 'musical': 2916, 'left': 758, 'endless': 2061, 'sleeps': 479, 'photo': 1280, 'laptop': 1777, 'ideas': 2749, 'assigned': 2620, 'thanks': 911, 'facts': 2921, 'yes': 1094, 'yet': 590, 'previous': 2531, 'jose': 2096, 'hills': 710, 'flooring': 1680, 'dining': 78, 'legion': 2035, 'furry': 2056, 'ease': 1871, 'character': 1052, 'occupants': 2975, 'pharmacy': 2074, 'spread': 2310, 'board': 735, 'easy': 44, 'basketball': 1639, 'cortland': 782, 'plasma': 2840, 'viking': 2330, 'desire': 2193, 'municipal': 2909, 'possible': 574, 'possibly': 1674, 'cultural': 1550, 'apart': 2995, 'unique': 377, 'retreat': 745, 'vanity': 1947, 'artists': 1672, 'masonic': 2346, 'gift': 2790, 'manual': 1651, 'arrivals': 2896, 'xbox': 2387, 'specific': 1876, 'alamo': 480, 'steps': 180, 'night': 159, 'security': 654, 'antique': 1326, 'www': 1241, 'right': 115, 'old': 341, 'shuttles': 1623, 'people': 103, 'crown': 2019, 'dead': 2359, 'clubs': 943, 'printer': 1692, 'meters': 1443, 'escape': 1833, 'doorstep': 1739, 'bottom': 853, 'opposite': 2092, 'ice': 998, 'creative': 1822, 'everything': 156, 'fog': 1059, 'skylight': 1986, 'ucsf': 607, 'offices': 2926, 'adorable': 1773, 'booking': 500, 'fish': 2249, 'discount': 1893, 'burner': 1635, 'lamps': 2287, 'paid': 1505, 'architectural': 1663, 'memorable': 2202, 'post': 1185, 'super': 277, 'permitted': 883, 'plug': 2664, 'diner': 2702, 'dollars': 2884, 'months': 1696, 'surround': 1502, 'dinner': 832, 'ensure': 1230, 'afternoon': 1107, 'eight': 2541, 'slightly': 2547, 'match': 2848, 'raised': 2932, 'destination': 1291, 'thermostat': 2637, 'civic': 559, 'bath': 83, 'accommodate': 431, 'inclusive': 2316, 'soon': 1743, 'particularly': 2072, 'rollaways': 2226, 'coveted': 2124, 'deal': 1948, 'creamery': 2039, 'support': 2304, 'tennis': 1013, 'appletv': 2539, 'sunlight': 953, 'gallery': 2582, 'absolutely': 696, 'way': 266, 'music': 357, 'happy': 197, 'head': 971, 'medium': 1834, 'offering': 1218, 'offer': 220, 'wireless': 494, 'garages': 1373, 'heat': 1064, 'hear': 707, 'removed': 2588, 'true': 1113, 'fort': 1044, 'trendiest': 2812, 'inside': 275, 'attached': 951, 'maximum': 733, 'devices': 1972, 'nicest': 2964, 'sides': 2151, 'coziness': 1538, 'proud': 2678, 'palo': 2965, 'classic': 460, 'peruvian': 2472, 'covers': 1997, 'cutlery': 2894, 'trip': 618, 'constructed': 2693, 'vista': 982, 'floor': 49, 'na': 2, 'generally': 739, 'setting': 1146, 'digital': 2299, 'topper': 2353, 'smell': 2496, 'roll': 2031, 'picture': 1703, 'tasteful': 2828, 'handicap': 2945, 'welcome': 142, 'utilities': 1888, 'rolling': 1973, 'replacement': 2862, 'weekend': 1011, 'longer': 829, 'hypoallergenic': 2596, 'glass': 586, 'together': 1006, 'beds': 233, 'reception': 2556, 'time': 82, 'serious': 2791, 'restored': 1432, 'neighbors': 222, 'slope': 2171, 'concept': 2227, 'dance': 2810, 'focus': 2646, 'silverware': 1800, 'leads': 1176, 'bringing': 2029, 'theaters': 1504, 'mile': 542, 'microwave': 196, 'chair': 605, 'abundant': 1874, 'milk': 1949, 'row': 1956, 'ballet': 2203, 'getaround': 2120, 'yummy': 2660, 'essentials': 1540, 'zone': 2657, 'blocking': 2460, 'environment': 1065, 'charge': 631, 'parnassus': 2405, 'agreed': 816, 'zingari': 2281, 'smartphone': 2867, 'advantage': 1894, 'none': 2507, 'choice': 1628, 'emergencies': 2354, 'bustle': 1168, 'stays': 776, 'cook': 520, 'join': 1711, 'trouble': 2228, 'eats': 2000, 'exact': 2497, 'minute': 75, 'cool': 743, 'dim': 2824, 'couches': 1444, 'level': 191, 'cleaners': 1627, 'cheapest': 2992, 'brother': 2718, 'standards': 2253, 'leave': 221, 'p': 844, 'planning': 1427, 'subway': 530, 'quick': 486, 'sidewalk': 1552, 'round': 1857, 'upper': 580, 'attic': 2204, 'trails': 944, 'discover': 2044, 'sign': 2091, 'cost': 1078, 'run': 655, 'cosy': 2317, 'drinks': 1468, 'stands': 2829, 'mt': 1985, 'cleanliness': 2362, 'assistance': 1337, 'remain': 2869, 'shares': 2058, 'current': 2175, 'health': 2794, 'goes': 660, 'pine': 2705, 'renters': 2854, 'shared': 92, 'unrestricted': 2276, 'filled': 350, 'era': 1742, 'transportation': 73, 'learn': 2679, 'french': 539, 'agreement': 1615, 'water': 298, 'exceptions': 2047, 'entertain': 2589, 'baseball': 2117, 'groups': 975, 'address': 1684, 'alone': 1497, 'along': 396, 'earthquake': 2025, 'change': 1459, 'wait': 1757, 'box': 933, 'hbo': 773, 'exploratorium': 2985, 'healthy': 2748, 'wherever': 2933, 'alta': 2184, 'example': 2238, 'historical': 1612, 'usually': 423, 'hospitality': 2627, 'conveniently': 497, 'pillow': 1184, 'massage': 2113, 'carpets': 2651, 'breathtaking': 1145, 'love': 111, 'stockton': 2138, 'hiking': 805, 'extra': 326, 'prefer': 644, 'uphill': 2331, 'flexibility': 2868, 'rarely': 1631, 'market': 173, 'hotels': 1276, 'streetcar': 1114, 'projector': 1673, 'working': 521, 'visit': 410, 'sports': 1965, 'insider': 2946, 'live': 145, 'going': 561, 'iphone': 2928, 'https': 1316, 'memory': 763, 'thru': 2199, 'checkout': 1529, 'prep': 2874, 'today': 2830, 'loving': 2532, 'entrance': 123, 'sharing': 483, 'continue': 2902, 'club': 1160, 'share': 260, 'refrain': 2148, 'futon': 690, 'downtown': 37, 'everywhere': 836, 'effort': 2167, 'easiest': 2002, 'countertops': 1720, 'car': 79, 'originally': 2348, 'soul': 2490, 'cat': 620, 'districts': 1111, 'foodies': 2792, 'cal': 1354, 'following': 1363, 'ferry': 560, 'detached': 1668, 'arrive': 555, 'caf': 962, 'fulton': 1604, 'heart': 97, 'dedicated': 1296, 'eclectic': 1068, 'grassy': 2811, 'awesome': 612, 'arise': 2054, 'concierge': 1153, 'locks': 1647, 'allowed': 328, 'curb': 2250, 'chic': 1247, 'clothing': 1556, 'winter': 2776, 'secured': 2413, 'watching': 1228, 'ping': 2621, 'magazine': 2388, 'freezer': 1379, 'lounge': 595, 'till': 2765, 'sunday': 1289, 'tile': 1512, 'plus': 445, 'unforgettable': 2601, 'map': 1587, 'staying': 371, 'designer': 862, 'laundry': 150, 'staircase': 1489, 'information': 653, 'may': 135, 'max': 1596, 'dive': 2406, 'spot': 355, 'produce': 1593, 'designed': 902, 'messaging': 2423, 'date': 1543, 'renovation': 2414, 'surfing': 1958, 'natural': 397, 'remember': 1498, 'whenever': 1721, 'candles': 1601, 'sq': 374, 'corona': 1863, 'st': 109, 'rather': 1967, 'deposit': 703, 'basket': 2766, 'tall': 1253, 'sf': 32, 'talk': 1758, 'typical': 1430, 'refund': 2452, 'cute': 757, 'approx': 1580, 'shoes': 284, 'furnished': 251, 'entryway': 2709, 'midnight': 1522, 'years': 472, 'course': 650, 'terrace': 873, 'cold': 1845, 'cole': 518, 'birds': 2006, 'earplugs': 2483, 'rooftop': 734, 'thank': 639, 'duplex': 2338, 'interesting': 1254, 'facility': 1494, 'hot': 389, 'forms': 2261, 'attraction': 2885, 'window': 435, 'offers': 412, 'spacious': 87, 'listing': 459, 'policy': 1151, 'mail': 2071, 'main': 199, 'non': 563, 'hop': 1305, 'tucked': 1357, 'views': 56, 'noe': 171, 'nob': 408, 'underneath': 2494, 'lunch': 1404, 'half': 354, 'arriving': 1807, 'feature': 2030, 'moma': 2146, 'son': 2182, 'hall': 627, 'bernal': 203, 'term': 207, 'name': 884, 'opera': 1167, 'corners': 2903, 'drop': 1197, 'fisherman': 315, 'rock': 2277, 'entirely': 2241, 'concerts': 2759, 'el': 2059, 'en': 830, 'beloved': 2931, 'entering': 1294, 'year': 575, 'okay': 2543, 'happen': 2242, 'sunrise': 2208, 'plans': 2339, 'hacker': 2340, 'living': 23, 'shown': 2484, 'jackson': 2585, 'footsteps': 2225, 'enjoyable': 1823, 'space': 31, 'blu': 2652, 'looking': 363, 'contained': 1943, 'internet': 231, 'pizzeria': 2603, 'moldings': 2262, 'shows': 1934, 'patios': 2525, 'cars': 453, 'quite': 549, 'hulu': 1213, 'oasis': 774, 'california': 403, 'besides': 2119, 'marina': 270, 'accommodation': 1339, 'card': 1383, 'care': 731, 'partner': 2361, 'advance': 753, 'listings': 1331, 'turn': 615, 'funky': 1889, 'place': 40, 'massive': 2222, 'routes': 1086, 'conveniences': 1630, 'think': 1108, 'frequent': 2392, 'first': 276, 'cheese': 2012, 'initial': 2961, 'dwelling': 2947, 'lone': 2845, 'crib': 1116, 'one': 12, 'long': 395, 'directly': 506, 'fi': 533, 'carry': 2711, 'message': 785, 'open': 154, 'size': 101, 'rented': 1454, 'city': 14, 'given': 1345, 'district': 63, 'preference': 2887, 'weekdays': 1050, 'anyone': 1053, 'convention': 1392, 'white': 1117, 'frame': 2837, 'friend': 1120, 'gives': 1657, 'exploring': 737, 'mostly': 1200, 'season': 2473, 'flatscreen': 1991, 'tempur': 2998, 'quirky': 2197, 'thai': 1130, 'flowers': 1158, 'holder': 1001, 'appreciated': 2917, 'population': 2720, 'wide': 1103, 'television': 929, 'unfortunately': 1377, 'require': 645, 'victorian': 121, 'r': 1274, 'knives': 2986, 'venture': 2565, 'cards': 2721, 'accessed': 1370, 'pre': 1735, 'gathering': 2642, 'san': 1, 'sac': 2458, 'pullout': 2280, 'occupies': 2369, 'turned': 2417, 'locations': 1097, 'alley': 1616, 'departure': 1584, 'prestigious': 2418, 'say': 1118, 'rent': 415, 'breakfast': 331, 'occupied': 1422, 'elsewhere': 2635, 'speakers': 1998, 'form': 2461, 'fashionable': 2708, 'efficient': 2393, 'aside': 2697, 'zoo': 887, 'note': 237, 'sciences': 925, 'ideal': 398, 'potential': 919, 'take': 90, 'online': 1872, 'interior': 1028, 'wanting': 2698, 'relaxed': 1716, 'surf': 2254, 'sure': 442, 'multiple': 632, 'theatre': 1263, 'normal': 1950, 'price': 897, 'keeps': 2630, 'embarcadero': 455, 'lounges': 2411, 'visitors': 706, 'sheets': 545, 'america': 2060, 'pastries': 2816, 'peninsula': 1399, 'especially': 670, 'bosch': 2325, 'considered': 1520, 'average': 2633, 'later': 1368, 'drive': 281, 'playing': 2217, 'crooked': 2350, 'sunset': 347, 'professional': 927, 'typically': 1270, 'shop': 687, 'walking': 46, 'cherry': 2645, 'show': 603, 'german': 2538, 'cheap': 1408, 'contemporary': 822, 'bright': 242, 'spaces': 515, 'shoe': 1733, 'corner': 239, 'superb': 2456, 'ground': 462, 'refinished': 2966, 'stained': 2263, 'outside': 182, 'wood': 553, 'black': 1513, 'equipped': 230, 'blinds': 2533, 'centrally': 305, 'muni': 51, 'get': 74, 'jazz': 1388, 'designated': 2215, 'balconies': 2622, 'truly': 990, 'cannot': 979, 'nearly': 2186, 'parkside': 2243, 'stroll': 968, 'gel': 2048, 'prime': 777, 'regarding': 1877, 'artist': 1320, 'leather': 1364, 'borrow': 2466, 'mon': 2665, 'morning': 418, 'skyline': 1080, 'miles': 372, 'husband': 1528, 'affordable': 1476, 'lyft': 229, 'picnic': 1646, 'enjoyed': 2915, 'encourages': 2427, 'seat': 1350, 'connections': 2302, 'college': 1749, 'parking': 18, 'calendar': 1890, 'taqueria': 1940, 'farmers': 1271, 'ways': 1974, 'review': 2341, 'sites': 1132, 'enough': 704, 'enjoys': 2934, 'reading': 1137, 'across': 297, 'decks': 1040, 'arrival': 471, 'notice': 1252, 'august': 1982, 'cocktails': 2846, 'screen': 349, 'supermarket': 1188, 'spare': 2149, 'lovingly': 2530, 'tub': 234, 'cities': 1658, 'come': 250, 'dates': 1318, 'many': 94, 'trader': 970, 'cafes': 187, 'quiet': 35, 'timeshare': 1012, 'somewhere': 2838, 'tour': 1148, 'highlights': 2420, 'wheels': 2942, 'comes': 523, 'nearby': 189, 'among': 1818, 'reside': 2648, 'color': 2088, 'pot': 1572, 'period': 1079, 'venues': 1390, 'twin': 208, 'approval': 1723, 'actually': 1464, 'polk': 568, 'boat': 2042, 'coffeemaker': 2598, 'save': 2140, 'arts': 899, 'stanyan': 2586, 'west': 424, 'locally': 2289, 'walkability': 2739, 'vacation': 626, 'mark': 2200, 'breath': 2754, 'combined': 2548, 'peaceful': 534, 'featuring': 1369, 'sleepers': 2500, 'wants': 2020, 'direction': 847, 'shopping': 155, 'filter': 2851, 'offered': 2231, 'drawer': 2062, 'photos': 1178, 'observe': 2315, 'wake': 1734, 'foggy': 2108, 'careful': 2015, 'weeks': 1619, 'countless': 1961, 'case': 730, 'casa': 1838, 'mount': 2053, 'accommodating': 2407, 'chinatown': 461, 'cash': 2268, 'hayes': 329, 'trick': 2599, 'residence': 991, 'situation': 1704, 'shops': 69, 'invited': 2224, 'slippers': 1560, 'penthouse': 1048, 'ballpark': 1632, 'bathrooms': 271, 'orientation': 2685, 'conferences': 2712, 'inflatable': 2686, 'telephone': 2774, 'sleeping': 633, 'couples': 299, 'middle': 566, 'someone': 896, 'converts': 2130, 'galore': 2761, 'baths': 722, 'metered': 1507, 'everyday': 2247, 'worry': 1415, 'bags': 1405, 'different': 677, 'verified': 2987, 'inquire': 1275, 'pay': 1014, 'bowl': 2178, 'check': 77, 'pac': 1343, 'pad': 1565, 'events': 761, 'week': 599, 'oil': 2126, 'closest': 1243, 'enjoyment': 1594, 'nest': 1869, 'assist': 1033, 'driver': 2453, 'ness': 1312, 'persons': 1730, 'running': 1076, 'fruit': 1461, 'favorites': 1978, 'climbing': 2425, 'totally': 1514, 'break': 1844, 'theater': 767, 'charges': 2109, 'magical': 2189, 'eureka': 2160, 'without': 452, 'bottle': 1395, 'trains': 1237, 'coordinate': 2445, 'foyer': 1534, 'grounds': 2799, 'charged': 1656, 'taxi': 636, 'summer': 1098, 'outdoor': 317, 'nd': 514, 'sights': 1020, 'rest': 492, 'foot': 386, 'gated': 1747, 'touch': 1774, 'speed': 482, 'guides': 2875, 'uberpool': 2666, 'weekly': 1389, 'blow': 2067, 'japantown': 1259, 'except': 689, 'lets': 2694, 'interested': 1437, 'extensive': 2335, 'tuesday': 2230, 'real': 752, 'around': 85, 'spectacular': 801, 'marcus': 2960, 'read': 567, 'fridge': 287, 'early': 550, 'overlooks': 1245, 'traffic': 906, 'pop': 2255, 'mom': 2410, 'schedules': 1927, 'using': 624, 'cd': 1527, 'blankets': 1290, 'rear': 1101, 'furniture': 425, 'towel': 1516, 'combines': 2729, 'gyms': 1922, 'maintained': 1499, 'serves': 2323, 'facing': 640, 'either': 608, 'always': 215, 'claw': 1737, 'tower': 667, 'seating': 694, 'apartments': 1738, 'delfina': 1652, 'pacific': 335, 'table': 224, 'duration': 2557, 'cabs': 2248, 'daytime': 2284, 'provided': 265, 'outs': 2467, 'confirm': 1923, 'noon': 1925, 'stops': 323, 'nook': 1155, 'exit': 1526, 'provides': 802, 'picks': 2008, 'refundable': 1537, 'hustle': 1287, 'vistas': 2988, 'accessing': 2935, 'business': 161, 'intimate': 1567, 'seconds': 2768, 'problems': 1573, 'chefs': 2977, 'sofas': 2446, 'communicate': 1987, 'iconic': 1070, 'update': 2482, 'broken': 2566, 'meets': 2517, 'exciting': 1359, 'throw': 1438, 'beaches': 1785, 'stone': 1563, 'ok': 1081, 'stations': 915, 'island': 1297, 'industry': 2777, 'favorite': 594, 'meal': 867, 'wolf': 2889, 'stand': 1491, 'neighbor': 1133, 'mixed': 1999, 'road': 1983, 'op': 2722, 'heater': 892, 'ladies': 920, 'lands': 1195, 'burning': 2003, 'communication': 2075, 'comforters': 2667, 'sunnyside': 2865, 'lively': 916, 'homeless': 1725, 'parties': 273, 'fill': 2187, 'prepare': 1625, 'area': 36, 'strictly': 1724, 'lounging': 2001, 'strip': 2014, 'start': 1119, 'cats': 908, 'low': 1071, 'lot': 381, 'valencia': 337, 'valley': 81, 'strict': 1855, 'allergic': 1765, 'mornings': 1597, 'complete': 519, 'tranquility': 2626, 'cabinet': 1850, 'bookstore': 2786, 'cottage': 508, 'trying': 2813, 'downstairs': 264, 'happening': 1928, 'pull': 787, 'rush': 2968, 'october': 2755, 'arranged': 2125, 'romantic': 1506, 'walkscore': 2604, 'nightlife': 510, 'inform': 2145, 'trips': 1675, 'connect': 1351, 'detailed': 1685, 'toilet': 619, 'vehicles': 2084, 'cinema': 1914, 'taste': 2312, 'certain': 2327, 'moved': 1992, 'al': 2731, 'deep': 1912, 'general': 1037, 'alarm': 2089, 'trundle': 1895, 'tasty': 2876, 'daily': 695, 'walks': 1189, 'lanes': 2967, 'tranquil': 1299, 'cream': 1005, 'cabinets': 1462, 'yoga': 859, 'ideally': 1419, 'drivers': 2506, 'storage': 637, 'pedic': 2800, 'insurance': 2428, 'field': 1025, 'valid': 2408, 'lifestyle': 2736, 'evenings': 1186, 'trash': 954, 'suites': 1545, 'pillows': 814, 'separate': 198, 'students': 1453, 'includes': 240, 'important': 797, 'peak': 2616, 'suited': 2134, 'fresh': 470, 'included': 404, 'decorated': 702, 'nightclubs': 2322, 'pool': 649, 'alcohol': 2570, 'building': 64, 'booked': 1551, 'remote': 2216, 'calls': 2373, 'wife': 1835, 'wifi': 160, 'hello': 1676, 'u': 2168, 'deluxe': 1847, 'starting': 1951, 'original': 485, 'since': 558, 'consider': 1322, 'chinese': 984, 'month': 1122, 'commute': 1653, 'tours': 2106, 'dish': 1712, 'follow': 1265, 'fixtures': 1598, 'faster': 2855, 'children': 432, 'unobstructed': 2898, 'carpet': 1671, 'alcatraz': 772, 'equipment': 1755, 'apartment': 9, 'tv': 67, 'encourage': 2303, 'thursday': 2293, 'former': 2549, 'th': 96, 'fountain': 2558, 'enjoying': 1095, 'presentation': 1590, 'activities': 952, 'premium': 1207, 'sitting': 691, 'far': 833, 'checkin': 2478, 'fan': 1731, 'decide': 2332, 'fall': 2050, 'ticket': 1633, 'washer': 140, 'condition': 1099, 'gg': 843, 'washing': 1416, 'cable': 127, 'list': 1124, 'manager': 1707, 'large': 38, 'sand': 2836, 'small': 112, 'sightglass': 2639, 'blackout': 2045, 'neighborhood': 20, 'portable': 1875, 'ten': 1209, 'tea': 327, 'streets': 391, 'past': 1100, 'rate': 1219, 'fiber': 2893, 'design': 888, 'pass': 1249, 'situated': 617, 'richard': 2860, 'clock': 2550, 'sun': 448, 'section': 770, 'public': 52, 'full': 33, 'crudo': 2906, 'certainly': 2976, 'bldg': 2659, 'hours': 214, 'donatello': 1429, 'relaxation': 1754, 'directions': 1203, 'strong': 1846, 'bakeries': 1183, 'search': 2153, 'ultra': 1727, 'ahead': 1705, 'inspired': 2079, 'allows': 1268, 'experience': 330, 'prior': 609, 'airport': 267, 'coolest': 2390, 'social': 1085, 'action': 1278, 'narrow': 2950, 'options': 407, 'bunk': 874, 'uniquely': 2782, 'via': 295, 'family': 134, 'buses': 345, 'transit': 183, 'put': 671, 'armoire': 2647, 'indoors': 1250, 'appliances': 301, 'toys': 1300, 'pulls': 2551, 'select': 2479, 'readily': 1746, 'marbella': 2969, 'takes': 437, 'contains': 1193, 'two': 29, 'resident': 1546, 'crissy': 1602, 'amenities': 188, 'gorgeous': 450, 'taken': 1706, 'markets': 744, 'bdr': 2221, 'chestnut': 799, 'flat': 68, 'diamond': 1728, 'door': 114, 'thus': 2696, 'company': 1315, 'dishwasher': 353, 'mill': 2741, 'basically': 1860, 'particular': 2426, 'known': 750, 'mellow': 2879, 'mounted': 2422, 'glad': 2832, 'town': 254, 'grill': 635, 'keeping': 1622, 'hour': 387, 'science': 1592, 'created': 2307, 'mall': 1171, 'den': 1490, 'v': 1966, 'malls': 2378, 'male': 2535, 'marble': 960, 'history': 1355, 'beautiful': 59, 'inexpensive': 2493, 'challenging': 2668, 'galleries': 1074, 'suggestions': 823, 'accept': 1926, 'states': 2778, 'minimum': 678, 'purchased': 2713, 'sense': 1741, 'station': 128, 'pong': 2760, 'huge': 364, 'needs': 537, 'housemates': 1662, 'court': 1713, 'goal': 2526, 'ordinance': 581, 'comfort': 674, 'utilize': 2866, 'housemate': 2634, 'maps': 1440, 'occasionally': 1266, 'freshly': 1717, 'canterbury': 2070, 'rug': 2391, 'ft': 379, 'redwood': 1708, 'advice': 1063, 'santa': 2835, 'panoramic': 786, 'lighting': 1154, 'adventure': 1778, 'coming': 675, 'backyard': 132, 'authentic': 1306, 'fascinating': 2971, 'short': 99, 'onto': 858, 'toiletries': 1172, 'overnight': 717, 'anytime': 813, 'roommates': 849, 'media': 1681, 'banks': 1288, 'pleasure': 1441, 'rentals': 866, 'geographic': 2384, 'dream': 1670, 'privileges': 1574, 'patio': 219, 'pans': 875, 'mexican': 1046, 'help': 179, 'september': 2793, 'locking': 2911, 'artwork': 1683, 'mission': 28, 'installed': 1904, 'paper': 1238, 'pane': 2363, 'signs': 841, 'dozens': 1649, 'avenue': 751, 'style': 348, 'birite': 2584, 'consent': 2948, 'carpeted': 2703, 'mattress': 238, 'late': 487, 'resort': 846, 'systems': 2841, 'inquiry': 1811, 'travelling': 2779, 'soccer': 2959, 'might': 554, 'hipster': 2435, 'good': 149, 'return': 1220, 'calm': 1595, 'nestled': 909, 'seeking': 2324, 'food': 185, 'inch': 1032, 'walls': 882, 'starbucks': 1210, 'sweeping': 1142, 'hairdryer': 1750, 'bigger': 2190, 'instructions': 1231, 'easily': 373, 'sundays': 2367, 'fully': 138, 'cell': 1349, 'accommodates': 1524, 'micro': 2394, 'teas': 2194, 'found': 651, 'notes': 2826, 'exquisite': 2098, 'heavy': 1910, 'everyone': 880, 'upstairs': 218, 'house': 8, 'energy': 1335, 'hard': 912, 'ware': 2618, 'police': 2680, 'chrissy': 2173, 'extended': 2141, 'expect': 715, 'ironing': 1174, 'beyond': 963, 'event': 1424, 'really': 484, 'travels': 1472, 'lovers': 2492, 'hideaway': 2051, 'ritual': 2870, 'linens': 449, 'surrounded': 904, 'settle': 2752, 'safety': 1301, 'hill': 80, 'paradise': 1269, 'hangers': 1763, 'issue': 1581, 'brewery': 2567, 'highway': 1027, 'bistro': 1803, 'expansive': 1664, 'foam': 679, 'friday': 1204, 'pub': 2355, 'pleasant': 1478, 'houses': 898, 'reason': 1465, 'base': 948, 'outfitted': 2223, 'members': 2856, 'imagine': 2732, 'ask': 249, 'loads': 2575, 'temperature': 2609, 'onsite': 1143, 'owners': 972, 'thread': 2016, 'needing': 2951, 'noted': 2796, 'american': 1206, 'w': 205, 'twenty': 2605, 'castle': 2439, 'feed': 2571, 'major': 370, 'feel': 163, 'number': 148, 'fancy': 2191, 'traveled': 2590, 'feet': 451, 'famed': 2629, 'done': 1139, 'elevator': 931, 'fees': 1010, 'traveler': 992, 'cups': 1709, 'miss': 2513, 'soaps': 2527, 'passes': 1968, 'story': 522, 'heads': 1852, 'guest': 95, 'jet': 2888, 'become': 1897, 'gourmet': 502, 'leading': 1396, 'interact': 1179, 'comfy': 380, 'least': 1091, 'paint': 1883, 'wonderful': 361, 'rates': 1199, 'store': 304, 'lease': 2508, 'mini': 597, 'option': 903, 'behind': 1029, 'hotel': 241, 'park': 11, 'immediate': 1600, 'part': 312, 'burrito': 2440, 'believe': 1804, 'stairs': 436, 'grace': 1412, 'serene': 1406, 'king': 269, 'grocery': 261, 'b': 727, 'kindly': 1993, 'bag': 2564, 'double': 369, 'getaway': 1023, 'bohemian': 2026, 'architect': 2257, 'str': 319, 'outdoors': 1292, 'video': 1617, 'taxis': 1109, 'toward': 2110, 'restful': 2695, 'enclosed': 1799, 'cleaner': 2475, 'curtains': 1702, 'ages': 2099, 'roughly': 2491, 'juice': 2502, 'alike': 2610, 'showers': 1783, 'cleaned': 1332, 'rugs': 2080, 'mountain': 1391, 'nights': 762, 'built': 343, 'zero': 2142, 'depending': 809, 'self': 907, 'couch': 321, 'lit': 1365, 'also': 30, 'costs': 1762, 'sandwiches': 2544, 'finding': 2326, 'play': 623, 'towards': 1360, 'electric': 815, 'singles': 2441, 'sets': 2542, 'reach': 796, 'steam': 2404, 'cigarette': 2545, 'charm': 543, 'plan': 446, 'services': 509, 'extremely': 673, 'approved': 1665, 'refrigerator': 311, 'understands': 2499, 'portola': 2781, 'windows': 195, 'clear': 1456, 'sometimes': 760, 'cover': 2210, 'km': 2336, 'traditional': 1417, 'treasures': 2999, 'artistic': 1944, 'clean': 104, 'dreamforce': 2669, 'barrel': 2573, 'stones': 2572, 'golf': 1346, 'gold': 2733, 'accommodations': 1205, 'bookings': 2107, 'businesses': 1952, 'carefully': 1829, 'excessive': 1915, 'caltrain': 488, 'fine': 569, 'find': 200, 'blender': 1726, 'richmond': 643, 'giant': 2083, 'northern': 2462, 'flights': 1828, 'pretty': 596, 'money': 2922, 'discuss': 2726, 'hip': 634, 'lombard': 781, 'triangle': 1092, 'therefore': 1787, 'permission': 2036, 'adventurers': 427, 'express': 1477, 'sunny': 116, 'kind': 748, 'trees': 893, 'toddlers': 2429, 'famous': 307, 'feels': 1445, 'basement': 1067, 'noises': 1569, 'worldmark': 1988, 'remove': 988, 'common': 303, 'recommendations': 552, 'x': 721, 'courteous': 1611, 'restaurants': 19, 'keyless': 1358, 'bars': 84, 'set': 375, 'art': 278, 'bart': 41, 'uses': 2687, 'culture': 932, 'see': 201, 'individual': 2154, 'sea': 1975, 'close': 43, 'locals': 1225, 'wyndham': 2115, 'hdmi': 2376, 'visiting': 665, 'movie': 807, 'currently': 1282, 'please': 15, 'plush': 1849, 'fans': 2714, 'stall': 2904, 'various': 1340, 'nopa': 469, 'probably': 1161, 'rite': 1156, 'numerous': 860, 'pictured': 2979, 'available': 34, 'solo': 392, 'latin': 2192, 'recently': 458, 'creating': 1535, 'premises': 688, 'attention': 1553, 'premise': 2742, 'condo': 253, 'c': 1426, 'last': 956, 'license': 2104, 'restaurant': 490, 'foreign': 2606, 'sensitive': 806, 'connection': 1976, 'kitchens': 2285, 'rose': 2653, 'hippest': 2333, 'vegetarian': 2974, 'whole': 256, 'load': 1878, 'yards': 2753, 'point': 855, 'simple': 989, 'sweet': 995, 'others': 819, 'community': 505, 'hollow': 1035, 'simply': 1131, 'church': 541, 'townhouse': 1879, 'throughout': 289, 'rm': 2090, 'expensive': 1518, 'finally': 2843, 'agree': 2147, 'monthly': 1347, 'create': 1423, 'outstanding': 2528, 'due': 913, 'secret': 1936, 'napa': 2097, 'brick': 2118, 'meeting': 939, 'empty': 1644, 'pm': 100, 'firm': 1880, 'alto': 2981, 'lived': 852, 'flight': 1362, 'comcast': 2260, 'gay': 1636, 'fire': 532, 'gas': 358, 'sausalito': 2152, 'else': 869, 'lives': 736, 'demand': 2179, 'prices': 2300, 'grills': 2980, 'despite': 2925, 'plants': 1267, 'look': 583, 'solid': 2519, 'straight': 1106, 'bill': 2662, 'gem': 1135, 'budget': 2004, 'kick': 2374, 'fun': 388, 'biking': 1333, 'guide': 1115, 'pack': 1697, 'secluded': 1648, 'mclaren': 1862, 'century': 771, 'sonoma': 2600, 'nightstand': 2454, 'beautifully': 839, 'ready': 894, 'salons': 2264, 'cuisine': 1480, 'decor': 946, 'italy': 1466, 'government': 2306, 'butcher': 2743, 'remodel': 2529, 'rules': 491, 'delicious': 941, 'reachable': 1752, 'corridor': 544, 'grand': 1090, 'advise': 2795, 'ray': 2540, 'hallway': 820, 'used': 529, 'temporary': 2081, 'paths': 2236, 'keys': 422, 'desks': 2952, 'moment': 2188, 'levels': 1134, 'arrived': 1931, 'cleaning': 300, 'dine': 2076, 'climb': 1858, 'recent': 2305, 'dark': 2398, 'lower': 268, 'older': 1557, 'judah': 577, 'spent': 2899, 'honor': 1690, 'person': 293, 'dryer': 120, 'landmark': 2431, 'entry': 499, 'spend': 877, 'know': 227, 'cuisines': 2881, 'quarters': 2112, 'questions': 193, 'world': 346, 'alternative': 2278, 'gems': 2282, 'tables': 1492, 'password': 2537, 'cup': 1321, 'lady': 2486, 'guaranteed': 2111, 'chest': 2358, 'parents': 2536, 'location': 54, 'violations': 1055, 'cul': 2468, 'administrative': 1088, 'excited': 2169, 'bin': 2286, 'emergency': 1397, 'big': 294, 'couple': 383, 'unlimited': 1191, 'game': 1766, 'fare': 2320, 'apt': 405, 'bit': 795, 'formal': 996, 'knock': 2900, 'lost': 1744, 'semi': 2279, 'according': 2949, 'restroom': 2767, 'safest': 1797, 'individuals': 2240, 'sofa': 212, 'popular': 468, 'stylish': 950, 'bamboo': 2027, 'essential': 1930, 'duboce': 625, 'partying': 1917, 'often': 548, 'coit': 958, 'soma': 262, 'spring': 2615, 'magnificent': 2233, 'back': 125, 'streaming': 1457, 'hassle': 2295, 'added': 1162, 'palm': 2801, 'pricing': 2449, 'sight': 1842, 'mirror': 1688, 'trendy': 676, 'yerba': 2269, 'luxe': 2415, 'pet': 791, 'tools': 2510, 'shall': 1841, 'per': 339, 'connecting': 2308, 'anne': 2661, 'dating': 2780, 'minimal': 1356, 'bd': 790, 'eating': 861, 'ba': 611, 'bi': 1056, 'step': 1198, 'br': 283, 'sunniest': 959, 'panhandle': 891, 'neighbourhood': 2498, 'changing': 2474, 'goods': 2770, 'housekeeping': 1613, 'anything': 288, 'netflix': 416, 'kitchenette': 513, 'plaza': 1485, 'page': 2297, 'range': 716, 'experiences': 2318, 'complimentary': 749, 'tenants': 1123, 'block': 42, 'seeing': 1473, 'garbage': 1089, 'within': 65, 'folsom': 2063, 'nothing': 1786, 'appropriate': 2399, 'detailing': 2757, 'downhill': 1819, 'sightseeing': 1436, 'question': 2313, 'fast': 610, 'custom': 1163, 'occupy': 2576, 'forward': 1165, 'tempurpedic': 1795, 'opens': 728, 'invite': 1082, 'housekeeper': 2514, 'victorians': 2283, 'registered': 821, 'murphy': 2301, 'specialty': 2368, 'link': 2577, 'tvs': 1772, 'russian': 585, 'line': 169, 'kitchenware': 2929, 'junior': 2671, 'posted': 2009, 'info': 1211, 'sounds': 1759, 'landscaped': 1227, 'driveways': 2643, 'us': 136, 'mobile': 2137, 'un': 2442, 'mature': 2043, 'similar': 2010, 'called': 1093, 'uber': 152, 'units': 863, 'adults': 741, 'mindful': 1181, 'showtime': 2078, 'single': 306, 'diverse': 966, 'evening': 824, 'chat': 1523, 'cafe': 536, 'cotton': 1334, 'rainbow': 2962, 'codes': 1809, 'lemon': 2219, 'peace': 1541, 'occasional': 2195, 'parlor': 1861, 'points': 1918, 'electrical': 2559, 'nice': 235, 'sutro': 1073, 'luxurious': 697, 'helping': 2314, 'meaning': 2437, 'allowing': 2220, 'reservation': 489, 'chocolate': 2412, 'daly': 2018, 'meals': 922, 'freeways': 614, 'ago': 2164, 'land': 1575, 'e': 937, 'overlooking': 630, 'valuables': 2936, 'dvd': 845, 'age': 1164, 'required': 672, 'cooked': 2715, 'cookware': 1376, 'lafayette': 2049, 'walker': 1853, 'international': 876, 'requires': 1650, 'bedding': 783, 'monterey': 2802, 'code': 324, 'partial': 2364, 'issued': 2591, 'merced': 1801, 'highways': 1239, 'arranging': 2086, 'aquatic': 2710, 'groceries': 1026, 'legal': 2183, 'served': 1802, 'go': 217, 'barbecue': 2023, 'centers': 1815, 'issues': 818, 'luxuries': 1780, 'compact': 1212, 'vietnamese': 1689, 'franciscan': 1837, 'disposal': 1411, 'young': 511, 'send': 947, 'compost': 2127, 'ghiradelli': 2681, 'helps': 2607, 'weather': 682, 'suite': 165, 'include': 512, 'friendly': 157, 'stocked': 429, 'garden': 57, 'divisadero': 652, 'bedrooms': 119, 'heard': 2758, 'drinking': 1659, 'clement': 1110, 'arrange': 1608, 'entire': 170, 'recreation': 2085, 'respectful': 351, 'gender': 2068, 'button': 2424, 'try': 524, 'roku': 1169, 'joes': 2100, 'refer': 2534, 'inspection': 1042, 'rack': 1669, 'comforts': 1568, 'smaller': 1469, 'folds': 2611, 'mediterranean': 1896, 'mural': 2989, 'jump': 2487, 'fold': 1224, 'hyde': 1353, 'traveling': 525, 'walgreen': 2552, 'download': 1471, 'initiate': 2886, 'reviews': 983, 'power': 2730, 'paintings': 2658, 'giving': 1530, 'espresso': 1400, 'valet': 993, 'access': 16, 'waiting': 2672, 'indian': 1789, 'twins': 2970, 'retains': 2150, 'bird': 2937, 'exercise': 1375, 'body': 1474, 'led': 1959, 'cozy': 151, 'degree': 1500, 'exchange': 1531, 'notable': 2232, 'commercial': 1303, 'sunsets': 2159, 'fishermans': 1938, 'clawfoot': 1929, 'desired': 1509, 'explore': 481, 'let': 285, 'sink': 467, 'making': 723, 'consideration': 2094, 'great': 26, 'metro': 917, 'keurig': 1839, 'receive': 1398, 'larger': 1402, 'shades': 2455, 'leaving': 1140, 'bicycles': 2631, 'products': 1962, 'taquerias': 1796, 'bookstores': 2663, 'residents': 1038, 'spices': 1932, 'makes': 699, 'maker': 465, 'named': 1483, 'stonestown': 1677, 'apple': 622, 'nearest': 1682, 'app': 838, 'manage': 2521, 'crazy': 2844, 'private': 10, 'apply': 2342, 'festivals': 2901, 'chilly': 2553, 'boasts': 1159, 'standing': 2443, 'usf': 1614, 'use': 50, 'fee': 394, 'certificate': 516, 'illegal': 1824, 'xfinity': 2847, 'next': 282, 'vehicle': 1366, 'possession': 974, 'porch': 1002, 'started': 2983, 'kiosk': 2953, 'charming': 255, 'payne': 2013, 'trail': 1984, 'train': 292, 'quintessential': 1748, 'baby': 1057, 'central': 252, 'appointed': 842, 'account': 2128, 'animals': 1919, 'f': 656, 'ride': 211, 'oh': 2625, 'edwardian': 464, 'wii': 2982, 'anywhere': 338, 'thin': 2578, 'perched': 2416, 'meet': 572, 'proof': 2251, 'control': 2011, 'giants': 1455, 'wharf': 279, 'reserved': 1667, 'links': 2704, 'snacks': 1304, 'process': 1977, 'lock': 475, 'tax': 1542, 'pieces': 2270, 'high': 133, 'sought': 1946, 'taraval': 1576, 'something': 831, 'spa': 1066, 'blvd': 1905, 'hit': 2750, 'native': 1519, 'hesitate': 1864, 'united': 2905, 'sit': 1075, 'vibe': 1058, 'six': 1448, 'sidewalks': 2673, 'arrangement': 2296, 'located': 27, 'lamp': 2101, 'haight': 141, 'forest': 1425, 'animal': 2912, 'galleria': 2319, 'instead': 2040, 'toddler': 1840, 'profile': 1433, 'buildings': 1515, 'blocks': 24, 'attend': 1493, 'watch': 663, 'collection': 1645, 'sip': 2990, 'leisure': 2170, 'ethnic': 1589, 'belongings': 1003, 'cheaper': 2495, 'light': 113, 'counter': 825, 'lines': 146, 'remedy': 2093, 'linen': 1620, 'bakery': 840, 'allow': 871, 'lined': 817, 'bins': 1781, 'move': 1192, 'quietly': 2769, 'meter': 2568, 'directv': 2459, 'including': 153, 'looks': 1293, 'mentioned': 2463, 'perfect': 129, 'le': 2744, 'outer': 1019, 'la': 1244, 'botanical': 1729, 'winning': 2129, 'willing': 2116, 'degrees': 2734, 'choose': 1180, 'zip': 2211, 'covered': 1886, 'holiday': 1939, 'greater': 2644, 'flour': 2235, 'mention': 1637, 'hands': 2560, 'front': 110, 'day': 105, 'presidential': 2095, 'minimalist': 2636, 'burritos': 2347, 'airports': 1913, 'tram': 1954, 'scenic': 1403, 'university': 1246, 'delightful': 2005, 'safeway': 616, 'condominium': 2592, 'breeze': 1836, 'glasses': 1413, 'unwind': 2122, 'studios': 1607, 'buena': 881, 'heated': 1260, 'ambiance': 1323, 'pantry': 1820, 'bluetooth': 2815, 'ristorante': 2438, 'books': 810, 'sectional': 1933, 'array': 2719, 'special': 700, 'cocktail': 2372, 'entertainment': 712, 'boutique': 1017, 'airbnb': 190, 'playground': 935, 'fran': 2370, 'thriving': 2785, 'cause': 2447, 'red': 1501, 'shut': 2735, 'eco': 2617, 'southern': 1460, 'activity': 2017, 'promptly': 2857, 'attending': 2943, 'completely': 571, 'doubles': 2337, 'tenant': 1045, 'interaction': 895, 'organic': 756, 'g': 1578, 'could': 591, 'times': 477, 'conversation': 2395, 'length': 1790, 'transfer': 1655, 'terrific': 2229, 'retail': 1814, 'museum': 439, 'south': 332, 'finest': 2087, 'chromecast': 1882, 'sonos': 1812, 'scene': 1719, 'owned': 1810, 'fits': 1150, 'submit': 2632, 'guidebook': 1760, 'owner': 659, 'reached': 1793, 'quality': 754, 'destinations': 1341, 'management': 2434, 'fair': 2676, 'privacy': 244, 'festival': 2480, 'pots': 942, 'system': 527, 'occupancy': 1175, 'ton': 1848, 'perfectly': 1087, 'behaved': 2196, 'tourists': 1583, 'ashbury': 352, 'academy': 719, 'completed': 2218, 'exactly': 2321, 'july': 2724, 'steel': 812, 'loved': 2028, 'furnishings': 811, 'mbps': 1937, 'shampoo': 708, 'bed': 17, 'loves': 2073, 'maybe': 2114, 'providing': 1582, 'steep': 1450, 'enforced': 2640, 'tidy': 1547, 'comfortable': 91, 'gentle': 2938, 'comfortably': 496, 'need': 76, 'sky': 2205, 'border': 1634, 'necessities': 2212, 'livingroom': 2682, 'dishes': 507, 'min': 118, 'allergies': 1381, 'able': 576, 'mid': 742, 'parks': 290, 'montgomery': 2691, 'mix': 1030, 'concerns': 1446, 'franciscans': 2476, 'korean': 2271, 'latino': 2385, 'soap': 889, 'unless': 705, 'centre': 2674, 'sfo': 365, 'courtesy': 2132, 'connected': 1043, 'mansion': 1920, 'hilltop': 2267, 'device': 2890, 'sophisticated': 2897, 'class': 905, 'delivery': 2940, 'stereo': 1722, 'conversations': 2997, 'url': 718, 'gather': 2102, 'request': 401, 'face': 1643, 'construction': 1764, 'workspace': 2155, 'pictures': 1380, 'occasion': 2991, 'normally': 2064, 'fact': 2554, 'atmosphere': 1279, 'selection': 1570, 'exclusive': 870, 'text': 366, 'stove': 336, 'indoor': 1004, 'bring': 556, 'bikes': 1328, 'parked': 2272, 'bedroom': 5, 'boutiques': 602, 'staff': 1386, 'ear': 2927, 'based': 1698, 'knowledge': 2234, 'pickup': 2756, 'terminal': 2699, 'surroundings': 2930, 'unable': 1945, 'combo': 2288, 'piano': 1277, 'local': 181, 'hope': 834, 'regularly': 2716, 'handle': 2400, 'means': 848, 'beat': 1784, 'familiar': 2891, 'unbeatable': 2745, 'overall': 2561, 'lucky': 2444, 'ones': 2396, 'areas': 246, 'conservatory': 1571, 'trucks': 2762, 'h': 1856, 'stuff': 1255, 'grab': 1385, 'view': 144, 'hardwood': 280, 'national': 1908, 'artsy': 2343, 'computer': 1309, 'driveway': 589, 'operated': 1147, 'bth': 2804, 'packed': 2939, 'closer': 2882, 'heaters': 2485, 'still': 592, 'closet': 168, 'placed': 2654, 'tend': 2176, 'state': 1008, 'hammock': 2638, 'bruno': 2214, 'closed': 1177, 'stories': 1393, 'email': 409, 'dirty': 1591, 'glen': 310, 'ends': 2328, 'opening': 1989, 'beverages': 2883, 'butts': 2401, 'courtyard': 1000, 'efficiency': 2311, 'job': 2237, 'joe': 1173, 'key': 378, 'jog': 2798, 'group': 938, 'optional': 1775, 'monitor': 2273, 'restrictions': 1295, 'instant': 1539, 'limits': 1190, 'taking': 850, 'drug': 1694, 'nespresso': 1486, 'etc': 167, 'dryers': 2871, 'passing': 2746, 'kinds': 2379, 'otherwise': 794, 'sunroom': 1909, 'co': 1240, 'gone': 1798, 'wall': 780, 'ca': 1487, 'skylights': 1307, 'walk': 13, 'respect': 296, 'oakland': 967, 'neat': 2389, 'addition': 638, 'permanent': 2723, 'treat': 501, 'curtain': 2522, 'hottest': 1420, 'waste': 2805, 'bbq': 526, 'diversity': 2356, 'finishes': 1566, 'painted': 693, 'farmer': 1235, 'sales': 2978, 'finished': 2827, 'smoking': 107, 'brunch': 1577, 'fellow': 2923, 'present': 1233, 'homes': 827, 'multi': 1866, 'welcoming': 1187, 'unlike': 2161, 'homey': 2156, 'cvs': 2386, 'value': 1548, 'choices': 2344, 'stunning': 657, 'bayview': 1336, 'balance': 2821, 'bathtub': 973, 'amenity': 2450, 'playgrounds': 1470, 'almost': 798, 'lush': 1451, 'site': 584, 'adventures': 1609, 'hardware': 2481, 'conditioning': 2509, 'arrangements': 1884, 'closets': 994, 'dual': 2105, 'ave': 701, 'convection': 2771, 'sits': 1144, 'conserve': 2290, 'grinder': 2954, 'vintage': 1021, 'landmarks': 1361, 'cross': 1660, 'fidi': 2046, 'parts': 692, 'speaker': 2488, 'largest': 1125, 'underground': 976, 'party': 755, 'gets': 686, 'powell': 724, 'difficult': 1232, 'ball': 1825, 'promo': 2963, 'drink': 977, 'upon': 344, 'sauna': 1384, 'nightly': 2357, 'student': 2833, 'frequently': 1898, 'lobby': 1141, 'discounted': 2291, 'center': 122, 'incredible': 768, 'well': 66, 'thought': 2955, 'philz': 1452, 'english': 1969, 'latest': 2956, 'upgraded': 2007, 'stores': 302, 'less': 342, 'proximity': 854, 'executive': 2177, 'ghirardelli': 1221, 'rooms': 162, 'seats': 1308, 'laurel': 1994, 'roomy': 1960, 'clipper': 2365, 'generous': 2814, 'rapid': 1585, 'residential': 204, 'supply': 1964, 'dinning': 1554, 'lake': 1039, 'bench': 2523, 'reasons': 2670, 'add': 1407, 'attractive': 2612, 'wet': 1348, 'usage': 2077, 'smart': 789, 'eateries': 1157, 'recycling': 1865, 'ample': 661, 'molding': 2144, 'checking': 1324, 'ensuite': 1338, 'historic': 309, 'five': 621, 'whatever': 1330, 'desk': 232, 'press': 1284, 'immediately': 1217, 'intersection': 1626, 'pier': 808, 'loss': 2409, 'lincoln': 2265, 'aerobed': 2849, 'necessary': 900, 'like': 89, 'inviting': 1467, 'chairs': 557, 'vibrant': 414, 'ring': 2728, 'laundromats': 2913, 'tons': 551, 'sized': 236, 'garage': 130, 'hosts': 764, 'adjoining': 1887, 'works': 1202, 'soft': 1691, 'radiant': 2143, 'italian': 680, 'accessible': 434, 'requested': 1924, 'mattresses': 1463, 'village': 800, 'library': 726, 'hair': 779, 'warmer': 2464, 'proper': 2207, 'home': 7, 'transport': 546, 'lockbox': 1229, 'happens': 2432, 'lead': 1851, 'headlands': 2924, 'literally': 1226, 'avoid': 1036, 'kettle': 835, 'entrepreneurs': 2436, 'detergent': 1714, 'bustling': 930, 'balboa': 740, 'stairway': 2700, 'noise': 223, 'schedule': 1371, 'clutter': 2861, 'pressure': 2292, 'host': 318, 'prohibited': 2274, 'although': 766, 'paned': 2717, 'refuge': 2740, 'noisy': 1867, 'sister': 2806, 'rare': 1149, 'getting': 540, 'swimming': 2133, 'overlook': 2880, 'travelers': 209, 'hwy': 1769, 'washington': 1699, 'functional': 1761, 'tenderloin': 1813, 'tartine': 1196, 'square': 72, 'female': 2157, 'registration': 316, 'hang': 765, 'mere': 2402, 'negotiable': 2863, 'van': 961, 'additional': 247, 'francis': 2334, 'stainless': 725, 'housing': 885, 'apps': 1779, 'dolores': 216, 'spots': 578, 'continental': 2258, 'inner': 579, 'exposure': 2808, 'globe': 2706, 'hotspots': 2957, 'buy': 1955, 'north': 225, 'interest': 1963, 'hr': 1414, 'bus': 39, 'brand': 384, 'hq': 2688, 'bother': 2803, 'volume': 1638, 'hi': 1072, 'courts': 1310, 'helpful': 1378, 'highest': 2256, 'eat': 441, 'hd': 1431, 'count': 1678, 'made': 732, 'places': 393, 'whether': 1034, 'wish': 1069, 'j': 517, 'hosting': 1084, 'excitement': 2972, 'record': 2628, 'converted': 1686, 'limit': 949, 'bdrm': 1561, 'infants': 2593, 'problem': 1015, 'minutes': 62, 'irish': 2864, 'reservations': 1745, 'alemany': 2763, 'ins': 1900, 'utensils': 778, 'dogpatch': 1234, 'pit': 1410, 'campus': 2266, 'balcony': 538, 'renowned': 1826, 'variety': 879, 'oak': 1484, 'detail': 1599, 'book': 478, 'guarantee': 2772, 'details': 503, 'granite': 1018, 'incredibly': 1661, 'dresser': 666, 'francisco': 3, 'star': 964, 'monday': 1208, 'june': 2613, 'outlets': 2737, 'stay': 47, 'chance': 2807, 'additionally': 1700, 'friends': 457, 'saturdays': 2823, 'cliff': 1525, 'yelp': 2872, 'samsung': 2489, 'antiques': 2252, 'baker': 1447, 'rule': 1488, 'hikes': 2158, 'portion': 2689, 'craft': 2789, 'understand': 1401, 'westfield': 1794, 'laundromat': 1496, 'gardens': 957}\n"
     ]
    }
   ],
   "source": [
    "words_to_int = dict((c, i) for i, c in enumerate(just_words))\n",
    "print words_to_int"
   ]
  },
  {
   "cell_type": "code",
   "execution_count": 21,
   "metadata": {},
   "outputs": [
    {
     "ename": "NameError",
     "evalue": "name 'raw_text' is not defined",
     "output_type": "error",
     "traceback": [
      "\u001b[0;31m---------------------------------------------------------------------------\u001b[0m",
      "\u001b[0;31mNameError\u001b[0m                                 Traceback (most recent call last)",
      "\u001b[0;32m<ipython-input-21-6c1ee1277cb4>\u001b[0m in \u001b[0;36m<module>\u001b[0;34m()\u001b[0m\n\u001b[0;32m----> 1\u001b[0;31m \u001b[0mn_chars\u001b[0m \u001b[0;34m=\u001b[0m \u001b[0mlen\u001b[0m\u001b[0;34m(\u001b[0m\u001b[0mraw_text\u001b[0m\u001b[0;34m)\u001b[0m\u001b[0;34m\u001b[0m\u001b[0m\n\u001b[0m\u001b[1;32m      2\u001b[0m \u001b[0mn_vocab\u001b[0m \u001b[0;34m=\u001b[0m \u001b[0mlen\u001b[0m\u001b[0;34m(\u001b[0m\u001b[0mchars\u001b[0m\u001b[0;34m)\u001b[0m\u001b[0;34m\u001b[0m\u001b[0m\n\u001b[1;32m      3\u001b[0m \u001b[0;32mprint\u001b[0m \u001b[0;34m\"Total Characters: \"\u001b[0m\u001b[0;34m,\u001b[0m \u001b[0mn_chars\u001b[0m\u001b[0;34m\u001b[0m\u001b[0m\n\u001b[1;32m      4\u001b[0m \u001b[0;32mprint\u001b[0m \u001b[0;34m\"Total Vocab: \"\u001b[0m\u001b[0;34m,\u001b[0m \u001b[0mn_vocab\u001b[0m\u001b[0;34m\u001b[0m\u001b[0m\n",
      "\u001b[0;31mNameError\u001b[0m: name 'raw_text' is not defined"
     ]
    }
   ],
   "source": [
    "n_chars = len(raw_text)\n",
    "n_vocab = len(chars)\n",
    "print \"Total Characters: \", n_chars\n",
    "print \"Total Vocab: \", n_vocab"
   ]
  },
  {
   "cell_type": "code",
   "execution_count": null,
   "metadata": {
    "collapsed": true
   },
   "outputs": [],
   "source": [
    "def feature_sep(descriptions):\n",
    "    words = []\n",
    "    for word in descriptions.split(\" \"):\n",
    "        words.append(word)\n",
    "    features = {}\n",
    "    for w in most_common:\n",
    "        features[w] = (w in words)\n",
    "    return features"
   ]
  },
  {
   "cell_type": "code",
   "execution_count": null,
   "metadata": {},
   "outputs": [],
   "source": [
    "featuresets = [(feature_sep(descriptions), tag) for (descriptions, tag) in lines]"
   ]
  },
  {
   "cell_type": "code",
   "execution_count": null,
   "metadata": {
    "collapsed": true
   },
   "outputs": [],
   "source": [
    "training_set = featuresets[:len(featuresets)/2]\n",
    "test_set = featuresets[len(featuresets)/2:]"
   ]
  },
  {
   "cell_type": "code",
   "execution_count": null,
   "metadata": {
    "collapsed": true
   },
   "outputs": [],
   "source": [
    "print training_set[0]"
   ]
  },
  {
   "cell_type": "code",
   "execution_count": null,
   "metadata": {
    "collapsed": true
   },
   "outputs": [],
   "source": [
    "classifier = nltk.NaiveBayesClassifier.train(training_set)"
   ]
  },
  {
   "cell_type": "code",
   "execution_count": null,
   "metadata": {
    "collapsed": true
   },
   "outputs": [],
   "source": [
    "print (nltk.classify.accuracy(classifier, test_set)*100)\n",
    "classifier.show_most_informative_features(30)"
   ]
  },
  {
   "cell_type": "code",
   "execution_count": null,
   "metadata": {
    "collapsed": true
   },
   "outputs": [],
   "source": [
    "print (nltk.classify.accuracy(classifier, test_set)*100)\n",
    "classifier.show_most_informative_features(20)"
   ]
  },
  {
   "cell_type": "code",
   "execution_count": null,
   "metadata": {
    "collapsed": true
   },
   "outputs": [],
   "source": [
    "import pickle\n",
    "save_classifier = open(\"naivebayes.pickle\", \"wb\")\n",
    "pickle.dump(classifier, save_classifier)\n",
    "save_classifier.close()"
   ]
  }
 ],
 "metadata": {
  "kernelspec": {
   "display_name": "Python 2",
   "language": "python",
   "name": "python2"
  },
  "language_info": {
   "codemirror_mode": {
    "name": "ipython",
    "version": 2
   },
   "file_extension": ".py",
   "mimetype": "text/x-python",
   "name": "python",
   "nbconvert_exporter": "python",
   "pygments_lexer": "ipython2",
   "version": "2.7.14"
  }
 },
 "nbformat": 4,
 "nbformat_minor": 2
}
