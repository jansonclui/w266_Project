{
 "cells": [
  {
   "cell_type": "code",
   "execution_count": 43,
   "metadata": {
    "collapsed": true
   },
   "outputs": [],
   "source": [
    "import os, sys, re, json, time, unittest\n",
    "import itertools, collections\n",
    "import re\n",
    "\n",
    "import numpy as np\n",
    "from scipy import stats\n",
    "\n",
    "import nltk"
   ]
  },
  {
   "cell_type": "code",
   "execution_count": 61,
   "metadata": {},
   "outputs": [
    {
     "name": "stdout",
     "output_type": "stream",
     "text": [
      " Cole Valley home that is    min to downtown on the N   phone number hidden  muni line  Close to Haight and Golden Gate Park   We live in a quiet  non smoking home so NO parties  neighborhood score   website hidden  I have a very unique art style home  I make many of the art myself   So if you don t like a funky classy  fun  art home then this is not the place for you       I will have a friend that lives and works  blocks from my home  that will manage my home and can help you with any questions that you might have  Location location location  Very quite lots off restaurants and local health food markets only blocks away from the home  So much to chose from    N Judah which will take you to ocean beach outbound and downtown inbound     will take you to the marina  And a lot more u can check out on next  website hidden   You will love the location  You can get downtown on one bus in   min or less  Great shopping on Haight street which is a       min walk from my home  \n",
      "40\n"
     ]
    }
   ],
   "source": [
    "description = []\n",
    "score = []\n",
    "for line in open('clean_listings.csv').readlines():\n",
    "    data = line.split(\"janson\")\n",
    "    clean_desc = re.sub('[^A-Za-z]', ' ', data[0])\n",
    "    description.append(clean_desc)\n",
    "    clean_score = data[1].strip('\\n')\n",
    "    score.append(clean_score)\n",
    "\n",
    "print description[39]\n",
    "print score[39]\n"
   ]
  },
  {
   "cell_type": "code",
   "execution_count": null,
   "metadata": {
    "collapsed": true
   },
   "outputs": [],
   "source": []
  }
 ],
 "metadata": {
  "kernelspec": {
   "display_name": "Python 2",
   "language": "python",
   "name": "python2"
  },
  "language_info": {
   "codemirror_mode": {
    "name": "ipython",
    "version": 2
   },
   "file_extension": ".py",
   "mimetype": "text/x-python",
   "name": "python",
   "nbconvert_exporter": "python",
   "pygments_lexer": "ipython2",
   "version": "2.7.14"
  }
 },
 "nbformat": 4,
 "nbformat_minor": 2
}
